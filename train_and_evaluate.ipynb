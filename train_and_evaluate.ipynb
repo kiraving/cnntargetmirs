{
 "cells": [
  {
   "cell_type": "code",
   "execution_count": 2,
   "metadata": {
    "collapsed": false
   },
   "outputs": [
    {
     "name": "stderr",
     "output_type": "stream",
     "text": [
      "Using TensorFlow backend.\n"
     ]
    }
   ],
   "source": [
    "import pandas as pd\n",
    "import numpy as np\n",
    "\n",
    "import keras\n",
    "from keras.utils import np_utils\n",
    "from keras.models import Sequential\n",
    "from keras.layers import Dense, Dropout, Activation, Flatten, Reshape, Merge\n",
    "from keras.layers import Conv2D,Conv1D, MaxPooling2D, MaxPooling1D\n",
    "from keras.optimizers import SGD, RMSprop"
   ]
  },
  {
   "cell_type": "code",
   "execution_count": 3,
   "metadata": {
    "collapsed": false
   },
   "outputs": [],
   "source": [
    "# load the preprocessed data\n",
    "y_target = np.load('y_target.npy')\n",
    "alin = np.load('alinment.npy')"
   ]
  },
  {
   "cell_type": "code",
   "execution_count": 4,
   "metadata": {
    "collapsed": false
   },
   "outputs": [],
   "source": [
    "# build the neural net architecture\n",
    "model = Sequential()\n",
    "model.add(Conv1D(64,3, input_shape=(None,alin.shape[2]), padding='same'))\n",
    "#mirs_branch.add(Dense(64))\n",
    "model.add(Activation('relu'))\n",
    "model.add(MaxPooling1D(pool_size=3,padding='same'))\n",
    "model.add(Dropout(0.25))\n",
    "model.add(Dense(32))\n",
    "model.add(Activation('relu'))\n",
    "model.add(Dropout(0.5))\n",
    "model.add(Dense(16))\n",
    "model.add(Activation('relu'))\n",
    "#model.add(Dropout(0.5))\n",
    "#model.add(Dense(2))\n",
    "#model.add(Activation('relu'))\n",
    "#model.add(Dropout(0.5))\n",
    "model.add(Dense(1))\n",
    "model.add(Activation('relu')) \n",
    "\n",
    "sgd = SGD(lr=0.001, decay=1e-6, momentum=0.9, nesterov=True)\n",
    "\n",
    "model.compile(loss='mean_squared_error', #'binary_crossentropy',\n",
    "              optimizer=sgd,\n",
    "              metrics=['accuracy'])\n"
   ]
  },
  {
   "cell_type": "code",
   "execution_count": 5,
   "metadata": {
    "collapsed": true
   },
   "outputs": [],
   "source": [
    "# make a proper shape for the neuralnet's input\n",
    "y_target = y_target.reshape(y_target.shape[0],1,1)\n",
    "# test set\n",
    "y_target_test = y_target[-20000:]\n",
    "alin_test = alin[-20000:]"
   ]
  },
  {
   "cell_type": "code",
   "execution_count": 6,
   "metadata": {
    "collapsed": false
   },
   "outputs": [
    {
     "name": "stdout",
     "output_type": "stream",
     "text": [
      "Train on 177234 samples, validate on 75958 samples\n",
      "Epoch 1/30\n",
      "177234/177234 [==============================] - 8s 45us/step - loss: 0.0753 - acc: 0.9210 - val_loss: 0.2638 - val_acc: 0.4988\n",
      "Epoch 2/30\n",
      "177234/177234 [==============================] - 7s 41us/step - loss: 0.0441 - acc: 0.9661 - val_loss: 0.2765 - val_acc: 0.4988\n",
      "Epoch 3/30\n",
      "177234/177234 [==============================] - 8s 43us/step - loss: 0.0384 - acc: 0.9727 - val_loss: 0.2771 - val_acc: 0.4988\n",
      "Epoch 4/30\n",
      "177234/177234 [==============================] - 7s 40us/step - loss: 0.0343 - acc: 0.9784 - val_loss: 0.2569 - val_acc: 0.4988\n",
      "Epoch 5/30\n",
      "177234/177234 [==============================] - 7s 39us/step - loss: 0.0313 - acc: 0.9820 - val_loss: 0.2538 - val_acc: 0.4988\n",
      "Epoch 6/30\n",
      "177234/177234 [==============================] - 7s 40us/step - loss: 0.0290 - acc: 0.9843 - val_loss: 0.2360 - val_acc: 0.4988\n",
      "Epoch 7/30\n",
      "177234/177234 [==============================] - 7s 40us/step - loss: 0.0269 - acc: 0.9864 - val_loss: 0.2353 - val_acc: 0.4988\n",
      "Epoch 8/30\n",
      "177234/177234 [==============================] - 7s 40us/step - loss: 0.0253 - acc: 0.9878 - val_loss: 0.2331 - val_acc: 0.4988\n",
      "Epoch 9/30\n",
      "177234/177234 [==============================] - 7s 41us/step - loss: 0.0238 - acc: 0.9892 - val_loss: 0.2229 - val_acc: 0.4988\n",
      "Epoch 10/30\n",
      "177234/177234 [==============================] - 7s 42us/step - loss: 0.0223 - acc: 0.9904 - val_loss: 0.2068 - val_acc: 0.4989\n",
      "Epoch 11/30\n",
      "177234/177234 [==============================] - 7s 41us/step - loss: 0.0199 - acc: 0.9916 - val_loss: 0.1580 - val_acc: 0.5209\n",
      "Epoch 12/30\n",
      "177234/177234 [==============================] - 8s 46us/step - loss: 0.0153 - acc: 0.9925 - val_loss: 0.0964 - val_acc: 0.9974\n",
      "Epoch 13/30\n",
      "177234/177234 [==============================] - 7s 42us/step - loss: 0.0113 - acc: 0.9934 - val_loss: 0.0559 - val_acc: 0.9979\n",
      "Epoch 14/30\n",
      "177234/177234 [==============================] - 9s 48us/step - loss: 0.0084 - acc: 0.9945 - val_loss: 0.0316 - val_acc: 0.9979\n",
      "Epoch 15/30\n",
      "177234/177234 [==============================] - 8s 42us/step - loss: 0.0063 - acc: 0.9954 - val_loss: 0.0199 - val_acc: 0.9979\n",
      "Epoch 16/30\n",
      "177234/177234 [==============================] - 8s 44us/step - loss: 0.0053 - acc: 0.9957 - val_loss: 0.0128 - val_acc: 0.9981\n",
      "Epoch 17/30\n",
      "177234/177234 [==============================] - 8s 45us/step - loss: 0.0045 - acc: 0.9961 - val_loss: 0.0090 - val_acc: 0.9981\n",
      "Epoch 18/30\n",
      "177234/177234 [==============================] - 8s 48us/step - loss: 0.0039 - acc: 0.9966 - val_loss: 0.0064 - val_acc: 0.9982\n",
      "Epoch 19/30\n",
      "177234/177234 [==============================] - 8s 47us/step - loss: 0.0035 - acc: 0.9968 - val_loss: 0.0042 - val_acc: 0.9984\n",
      "Epoch 20/30\n",
      "177234/177234 [==============================] - 8s 46us/step - loss: 0.0031 - acc: 0.9969 - val_loss: 0.0036 - val_acc: 0.9986\n",
      "Epoch 21/30\n",
      "177234/177234 [==============================] - 8s 46us/step - loss: 0.0030 - acc: 0.9971 - val_loss: 0.0032 - val_acc: 0.9984\n",
      "Epoch 22/30\n",
      "177234/177234 [==============================] - 8s 47us/step - loss: 0.0028 - acc: 0.9971 - val_loss: 0.0029 - val_acc: 0.9982\n",
      "Epoch 23/30\n",
      "177234/177234 [==============================] - 8s 46us/step - loss: 0.0027 - acc: 0.9972 - val_loss: 0.0022 - val_acc: 0.9986\n",
      "Epoch 24/30\n",
      "177234/177234 [==============================] - 8s 46us/step - loss: 0.0025 - acc: 0.9974 - val_loss: 0.0022 - val_acc: 0.9984\n",
      "Epoch 25/30\n",
      "177234/177234 [==============================] - 7s 41us/step - loss: 0.0025 - acc: 0.9974 - val_loss: 0.0017 - val_acc: 0.9988\n",
      "Epoch 26/30\n",
      "177234/177234 [==============================] - 7s 38us/step - loss: 0.0023 - acc: 0.9976 - val_loss: 0.0019 - val_acc: 0.9985\n",
      "Epoch 27/30\n",
      "177234/177234 [==============================] - 7s 40us/step - loss: 0.0023 - acc: 0.9975 - val_loss: 0.0017 - val_acc: 0.9986\n",
      "Epoch 28/30\n",
      "177234/177234 [==============================] - 7s 41us/step - loss: 0.0021 - acc: 0.9978 - val_loss: 0.0014 - val_acc: 0.9988\n",
      "Epoch 29/30\n",
      "177234/177234 [==============================] - 9s 51us/step - loss: 0.0021 - acc: 0.9977 - val_loss: 0.0014 - val_acc: 0.9988\n",
      "Epoch 30/30\n",
      "177234/177234 [==============================] - 7s 40us/step - loss: 0.0021 - acc: 0.9977 - val_loss: 0.0016 - val_acc: 0.9985\n"
     ]
    },
    {
     "data": {
      "text/plain": [
       "<keras.callbacks.History at 0x7f38e525b3c8>"
      ]
     },
     "execution_count": 6,
     "metadata": {},
     "output_type": "execute_result"
    }
   ],
   "source": [
    "# train the model\n",
    "model.fit(alin[:-20000], y_target[:-20000],\n",
    "              batch_size=50,\n",
    "              epochs=30,\n",
    "              validation_split=0.3)"
   ]
  },
  {
   "cell_type": "code",
   "execution_count": 11,
   "metadata": {
    "collapsed": false
   },
   "outputs": [
    {
     "name": "stdout",
     "output_type": "stream",
     "text": [
      "20000/20000 [==============================] - 1s 25us/step\n"
     ]
    },
    {
     "data": {
      "text/plain": [
       "[0.0011400694283118355, 0.9987]"
      ]
     },
     "execution_count": 11,
     "metadata": {},
     "output_type": "execute_result"
    }
   ],
   "source": [
    "# test the model on unseen data\n",
    "model.evaluate(alin_test,y_target_test)"
   ]
  },
  {
   "cell_type": "code",
   "execution_count": 7,
   "metadata": {
    "collapsed": true
   },
   "outputs": [],
   "source": [
    "model.save('conv64-maxpool1d-32-16-1-sgd-relus.h5')"
   ]
  },
  {
   "cell_type": "code",
   "execution_count": null,
   "metadata": {
    "collapsed": true
   },
   "outputs": [],
   "source": []
  }
 ],
 "metadata": {
  "anaconda-cloud": {},
  "kernelspec": {
   "display_name": "Python [default]",
   "language": "python",
   "name": "python3"
  },
  "language_info": {
   "codemirror_mode": {
    "name": "ipython",
    "version": 3
   },
   "file_extension": ".py",
   "mimetype": "text/x-python",
   "name": "python",
   "nbconvert_exporter": "python",
   "pygments_lexer": "ipython3",
   "version": "3.5.2"
  }
 },
 "nbformat": 4,
 "nbformat_minor": 1
}
