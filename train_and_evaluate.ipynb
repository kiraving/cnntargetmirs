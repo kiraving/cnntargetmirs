{
 "cells": [
  {
   "cell_type": "code",
   "execution_count": 1,
   "metadata": {
    "collapsed": false
   },
   "outputs": [
    {
     "name": "stderr",
     "output_type": "stream",
     "text": [
      "Using TensorFlow backend.\n"
     ]
    }
   ],
   "source": [
    "import pandas as pd\n",
    "import numpy as np\n",
    "\n",
    "import keras\n",
    "from keras.utils import np_utils\n",
    "from keras.models import Sequential\n",
    "from keras.layers import Dense, Dropout, Activation, Flatten, Reshape, Merge\n",
    "from keras.layers import Conv2D,Conv1D, MaxPooling2D, MaxPooling1D\n",
    "from keras.optimizers import SGD, RMSprop"
   ]
  },
  {
   "cell_type": "code",
   "execution_count": 2,
   "metadata": {
    "collapsed": true
   },
   "outputs": [],
   "source": [
    "# load the preprocessed data\n",
    "y_target = np.load('y_target.npy')\n",
    "alin = np.load('alinment.npy')"
   ]
  },
  {
   "cell_type": "code",
   "execution_count": 8,
   "metadata": {
    "collapsed": false
   },
   "outputs": [],
   "source": [
    "# build the neural net architecture\n",
    "model = Sequential()\n",
    "model.add(Conv1D(64,3, input_shape=(None,alin.shape[2]), padding='same'))\n",
    "#mirs_branch.add(Dense(64))\n",
    "model.add(Activation('relu'))\n",
    "model.add(MaxPooling1D(pool_size=3,padding='same'))\n",
    "model.add(Dropout(0.25))\n",
    "model.add(Dense(32))\n",
    "model.add(Activation('relu'))\n",
    "model.add(Dropout(0.5))\n",
    "model.add(Dense(16))\n",
    "model.add(Activation('relu'))\n",
    "#model.add(Dropout(0.5))\n",
    "#model.add(Dense(2))\n",
    "#model.add(Activation('relu'))\n",
    "#model.add(Dropout(0.5))\n",
    "model.add(Dense(1))\n",
    "model.add(Activation('relu')) \n",
    "\n",
    "sgd = SGD(lr=0.001, decay=1e-6, momentum=0.9, nesterov=True)\n",
    "\n",
    "model.compile(loss='mean_squared_error', #'binary_crossentropy',\n",
    "              optimizer=sgd,\n",
    "              metrics=['accuracy'])\n"
   ]
  },
  {
   "cell_type": "code",
   "execution_count": 9,
   "metadata": {
    "collapsed": true
   },
   "outputs": [],
   "source": [
    "# make a proper shape for the neuralnet's input\n",
    "y_target = y_target.reshape(y_target.shape[0],1,1)\n",
    "# test set\n",
    "y_target_test = y_target[-20000:]\n",
    "alin_test = alin[-20000:]"
   ]
  },
  {
   "cell_type": "code",
   "execution_count": 10,
   "metadata": {
    "collapsed": false
   },
   "outputs": [
    {
     "name": "stdout",
     "output_type": "stream",
     "text": [
      "Train on 177234 samples, validate on 75958 samples\n",
      "Epoch 1/30\n",
      "177234/177234 [==============================] - 8s 44us/step - loss: 0.0803 - acc: 0.9127 - val_loss: 0.1639 - val_acc: 0.5235\n",
      "Epoch 2/30\n",
      "177234/177234 [==============================] - 8s 43us/step - loss: 0.0376 - acc: 0.9697 - val_loss: 0.1190 - val_acc: 0.8613\n",
      "Epoch 3/30\n",
      "177234/177234 [==============================] - 7s 40us/step - loss: 0.0224 - acc: 0.9812 - val_loss: 0.0536 - val_acc: 0.9969\n",
      "Epoch 4/30\n",
      "177234/177234 [==============================] - 7s 41us/step - loss: 0.0136 - acc: 0.9880 - val_loss: 0.0188 - val_acc: 0.9972\n",
      "Epoch 5/30\n",
      "177234/177234 [==============================] - 7s 41us/step - loss: 0.0090 - acc: 0.9917 - val_loss: 0.0073 - val_acc: 0.9977\n",
      "Epoch 6/30\n",
      "177234/177234 [==============================] - 7s 40us/step - loss: 0.0064 - acc: 0.9943 - val_loss: 0.0042 - val_acc: 0.9977\n",
      "Epoch 7/30\n",
      "177234/177234 [==============================] - 7s 40us/step - loss: 0.0052 - acc: 0.9953 - val_loss: 0.0026 - val_acc: 0.9982\n",
      "Epoch 8/30\n",
      "177234/177234 [==============================] - 7s 40us/step - loss: 0.0043 - acc: 0.9959 - val_loss: 0.0020 - val_acc: 0.9982\n",
      "Epoch 9/30\n",
      "177234/177234 [==============================] - 7s 41us/step - loss: 0.0038 - acc: 0.9964 - val_loss: 0.0017 - val_acc: 0.9984\n",
      "Epoch 10/30\n",
      "177234/177234 [==============================] - 8s 43us/step - loss: 0.0034 - acc: 0.9969 - val_loss: 0.0016 - val_acc: 0.9987\n",
      "Epoch 11/30\n",
      "177234/177234 [==============================] - 7s 40us/step - loss: 0.0032 - acc: 0.9967 - val_loss: 0.0013 - val_acc: 0.9987\n",
      "Epoch 12/30\n",
      "177234/177234 [==============================] - 7s 40us/step - loss: 0.0029 - acc: 0.9971 - val_loss: 0.0012 - val_acc: 0.9987\n",
      "Epoch 13/30\n",
      "177234/177234 [==============================] - 7s 38us/step - loss: 0.0027 - acc: 0.9973 - val_loss: 0.0012 - val_acc: 0.9988\n",
      "Epoch 14/30\n",
      "177234/177234 [==============================] - 8s 43us/step - loss: 0.0025 - acc: 0.9976 - val_loss: 0.0011 - val_acc: 0.9989\n",
      "Epoch 15/30\n",
      "177234/177234 [==============================] - 8s 43us/step - loss: 0.0025 - acc: 0.9975 - val_loss: 0.0011 - val_acc: 0.9988\n",
      "Epoch 16/30\n",
      "177234/177234 [==============================] - 8s 45us/step - loss: 0.0024 - acc: 0.9976 - val_loss: 0.0011 - val_acc: 0.9989\n",
      "Epoch 17/30\n",
      "177234/177234 [==============================] - 9s 50us/step - loss: 0.0022 - acc: 0.9977 - val_loss: 0.0010 - val_acc: 0.9990\n",
      "Epoch 18/30\n",
      "177234/177234 [==============================] - 7s 40us/step - loss: 0.0022 - acc: 0.9979 - val_loss: 0.0011 - val_acc: 0.9989\n",
      "Epoch 19/30\n",
      "177234/177234 [==============================] - 7s 42us/step - loss: 0.0021 - acc: 0.9979 - val_loss: 0.0010 - val_acc: 0.9990\n",
      "Epoch 20/30\n",
      "177234/177234 [==============================] - 7s 41us/step - loss: 0.0021 - acc: 0.9978 - val_loss: 0.0010 - val_acc: 0.9989\n",
      "Epoch 21/30\n",
      "177234/177234 [==============================] - 7s 40us/step - loss: 0.0021 - acc: 0.9979 - val_loss: 0.0010 - val_acc: 0.9989\n",
      "Epoch 22/30\n",
      "177234/177234 [==============================] - 7s 39us/step - loss: 0.0020 - acc: 0.9979 - val_loss: 9.6766e-04 - val_acc: 0.9990\n",
      "Epoch 23/30\n",
      "177234/177234 [==============================] - 7s 40us/step - loss: 0.0020 - acc: 0.9979 - val_loss: 0.0011 - val_acc: 0.9988\n",
      "Epoch 24/30\n",
      "177234/177234 [==============================] - 7s 40us/step - loss: 0.0019 - acc: 0.9980 - val_loss: 9.7828e-04 - val_acc: 0.9990\n",
      "Epoch 25/30\n",
      "177234/177234 [==============================] - 7s 42us/step - loss: 0.0018 - acc: 0.9982 - val_loss: 9.7334e-04 - val_acc: 0.9990\n",
      "Epoch 26/30\n",
      "177234/177234 [==============================] - 8s 43us/step - loss: 0.0018 - acc: 0.9982 - val_loss: 9.5363e-04 - val_acc: 0.9990\n",
      "Epoch 27/30\n",
      "177234/177234 [==============================] - 7s 40us/step - loss: 0.0017 - acc: 0.9982 - val_loss: 9.0406e-04 - val_acc: 0.9991\n",
      "Epoch 28/30\n",
      "177234/177234 [==============================] - 7s 38us/step - loss: 0.0017 - acc: 0.9981 - val_loss: 9.3415e-04 - val_acc: 0.9990\n",
      "Epoch 29/30\n",
      "177234/177234 [==============================] - 7s 39us/step - loss: 0.0017 - acc: 0.9982 - val_loss: 9.5727e-04 - val_acc: 0.9990\n",
      "Epoch 30/30\n",
      "177234/177234 [==============================] - 7s 38us/step - loss: 0.0017 - acc: 0.9983 - val_loss: 9.6442e-04 - val_acc: 0.9990\n"
     ]
    },
    {
     "data": {
      "text/plain": [
       "<keras.callbacks.History at 0x7fb6fd708278>"
      ]
     },
     "execution_count": 10,
     "metadata": {},
     "output_type": "execute_result"
    }
   ],
   "source": [
    "# train the model\n",
    "model.fit(alin[:-20000], y_target[:-20000],\n",
    "              batch_size=50,\n",
    "              epochs=30,\n",
    "              validation_split=0.3)"
   ]
  },
  {
   "cell_type": "code",
   "execution_count": 11,
   "metadata": {
    "collapsed": false
   },
   "outputs": [
    {
     "name": "stdout",
     "output_type": "stream",
     "text": [
      "20000/20000 [==============================] - 1s 25us/step\n"
     ]
    },
    {
     "data": {
      "text/plain": [
       "[0.0011400694283118355, 0.9987]"
      ]
     },
     "execution_count": 11,
     "metadata": {},
     "output_type": "execute_result"
    }
   ],
   "source": [
    "# test the model on unseen data\n",
    "model.evaluate(alin_test,y_target_test)"
   ]
  },
  {
   "cell_type": "code",
   "execution_count": null,
   "metadata": {
    "collapsed": true
   },
   "outputs": [],
   "source": []
  }
 ],
 "metadata": {
  "anaconda-cloud": {},
  "kernelspec": {
   "display_name": "Python [default]",
   "language": "python",
   "name": "python3"
  },
  "language_info": {
   "codemirror_mode": {
    "name": "ipython",
    "version": 3
   },
   "file_extension": ".py",
   "mimetype": "text/x-python",
   "name": "python",
   "nbconvert_exporter": "python",
   "pygments_lexer": "ipython3",
   "version": "3.5.2"
  }
 },
 "nbformat": 4,
 "nbformat_minor": 1
}
