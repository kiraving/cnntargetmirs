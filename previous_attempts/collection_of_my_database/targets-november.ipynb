{
 "cells": [
  {
   "cell_type": "code",
   "execution_count": 3,
   "metadata": {
    "collapsed": true
   },
   "outputs": [],
   "source": [
    "g = \"CTTGAATCTTGGGGCAGGAACTCAGAAAACTTCCAGCCCGGGCAGCGCGCGCTTGGTGCAAGACTCAGGAGCTAGCAGCCCGTCCCCCTCCGACTCTCCGGTGCCGCCGCTGCCTGCTCCCGCCACCCTAGGAGGCGCGGTGCCACCCACTACTCTGTCCTCTGCCTGTGCTCCGTGCCCGACCCTATCCCGGCGGAGTCTCCCCATCCTCCTTTGCTTTCCGACTGCCCAAGGCACTTTCAATCTCAATCTCTTCTCTCTCTCTCTCTCTCTCTCTCTCTCTCTCTCTCTCTCTCTCTCTCTCTCTCTCGCAGGGTGGGGGGAAGAGGAGGAGGAATTCTTTCCCCGCCTAACATTTCAAGGGACACAATTCACTCCAAGTCTCTTCCCTTTCCAAGCCGCTTCCGAAGTGCTCCCGGTGCCCGCAACTCCTGATCCCAACCCGCGAGAGGAGCCTCTGCGACCTCAAAGCCTCTCTTCCTTCTCCCTCGCTTCCCTCCTCCTCTTGCTACCTCCACCTCCACCGCCACCTCCACCTCCGGCACCCACCCACCGCCGCCGCCGCCACCGGCAGCGCCTCCTCCTCTCCTCCTCCTCCTCCCCTCTTCTCTTTTTGGCAGCCGCTGGACGTCCGGTGTTGATGGTGGCAGCGGCGGCAGCCTAAGCAACAGCAGCCCTCGCAGCCCGCCAGCTCGCGCTCGCCCCGCCGGCGTCCCCAGCCCTATCACCTCATCTCCCGAAAGGTGCTGGGCAGCTCCGGGGCGGTCGAGGCGAAGCGGCTGCAGCGGCGGTAGCGGCGGCGGGAGGCAGGATGAGCGCACGCGGTGAGGGCGCGGGGCAGCCGTCCACTTCAGCCCAGGGACAACCTGCCGCCCCAGCGCCTCAGAAGAGAGGACGCGGCCGCCCCAGGAAGCAGCAGCAAGAACCAACCGGTGAGCCCTCTCCTAAGAGACCCAGGGGAAGACCCAAAGGCAGCAAAAACAAGAGTCCCTCTAAAGCAGCTCAAAAGAAAGCAGAAGCCACTGGAGAAAAACGGCCAAGAGGCAGACCTAGGAAATGGCCACAACAAGTTGTTCAGAAGAAGCCTGCTCAGGAGGAAACTGAAGAGACATCCTCACAAGAGTCTGCCGAAGAGGACTAGGGGGCGCCAACGTTCGATTTCTACCTCAGCAGCAGTTGGATCTTTTGAAGGGAGAAGACACTGCAGTGACCACTTATTCTGTATTGCCATGGTCTTTCCACTTTCATCTGGGGTGGGGTGGGGTGGGGTGGGGGAGGGGGGGGTGGGGTGGGGAGAAATCACATAACCTTAAAAAGGACTATATTAATCACCTTCTTTGTAATCCCTTCACAGTCCCAGGTTTAGTGAAAAACTGCTGTAAACACAGGGGACACAGCTTAACAATGCAACTTTTAATTACTGTTTTCTTTTTTCTTAACCTACTAATAGTTTGTTGATCTGATAAGCAAGAGTGGGCGGGTGAGAAAAACCGAATTGGGTTTAGTCAATCACTGCACTGCATGCAAACAAGAAACGTGTCACACTTGTGACGTCGGGCATTCATATAGGAAGAACGCGGTGTGTAACACTGTGTACACCTCAAATACCACCCCAACCCACTCCCTGTAGTGAATCCTCTGTTTAGAACACCAAAGATAAGGACTAGATACTACTTTCTCTTTTTCGTATAATCTTGTAGACACTTACTTGATGATTTTTAACTTTTTATTTCTAAATGAGACGAAATGCTGATGTATCCTTTCATTCAGCTAACAAACTAGAAAAGGTTATGTTCATTTTTCAAAAAGGGAAGTAAGCAAACAAATATTGCCAACTCTTCTATTTATGGATATCACACATATCAGCAGGAGTAATAAATTTACTCACAGCACTTGTTTTCAGGACAACACTTCATTTTCAGGAAATCTACTTCCTACAGAGCCAAAATGCCATTTAGCAATAAATAACACTTGTCAGCCTCAGAGCATTTAAGGAAACTAGACAAGTAAAATTATCCTCTTTGTAATTTAATGAAAAGGTACAACAGAATAATGCATGATGAACTCACCTAATTATGAGGTGGGAGGAGCGAAATCTAAATTTCTTTTGCTATAGTTATACATCAATTTAAAAAGCAAAAAAAAAAAAGGGGGGGGCAATCTCTCTCTGTGTCTTTCTCTCTCTCTCTTCCTCTCCCTCTCTCTTTTCATTGTGTATCAGTTTCCATGAAAGACCTGAATACCACTTACCTCAAATTAAGCATATGTGTTACTTCAAGTAATACGTTTTGACATAAGATGGTTGACCAAGGTGCTTTTCTTCGGCTTGAGTTCACCATCTCTTCATTCAAACTGCACTTTTAGCCAGAGATGCAATATATCCCCACTACTCAATACTACCTCTGAATGTTACAACGAATTTACAGTCTAGTACTTATTACATGCTGCTATACACAAGCAATGCAAGAAAAAAACTTACTGGGTAGGTGATTCTAATCATCTGCAGTTCTTTTTGTACACTTAATTACAGTTAAAGAAGCAATCTCCTTACTGTGTTTCAGCATGACTATGTATTTTTCTATGTTTTTTTAATTAAAAATTTTTAAAATACTTGTTTCAGCTTCTCTGCTAGATTTCTACATTAACTTGAAAATTTTTTAACCAAGTCGCTCCTAGGTTCTTAAGGATAATTTTCCTCAATCACACTACACATCACACAAGATTTGACTGTAATATTTAAATATTACCCTCCAAGTCTGTACCTCAAATGAATTCTTTAAGGAGATGGACTAATTGACTTGCAAAGACCTACCTCCAGACTTCAAAAGGAATGAACTTGTTACTTGCAGCATTCATTTGTTTTTTCAATGTTTGAAATAGTTCAAACTGCAGCTAACCCTAGTCAAAACTATTTTTGTAAAAGACATTTGATAGAAAGGAACACGTTTTTACATACTTTTGCAAAATAAGTAAATAATAAATAAAATAAAAGCCAACCTTCAAAGAAACTTGAAGCTTTGTAGGTGAGATGCAACAAGCCCTGCTTTTGCATAATGCAATCAAAAATATGTGTTTTTAAGATTAGTTGAATATAAGAAAATGCTTGACAAATATTTTCATGTATTTTACACAAATGTGATTTTTGTAATATGTCTCAACCAGATTTATTTTAAACGCTTCTTATGTAGAGTTTTTATGCCTTTCTCTCCTAGTGAGTGTGCTGACTTTTTAACATGGTATTATCAACTGGGCCAGGAGGTAGTTTCTCATGACGGCTTTTGTCAGTATGGCTTTTAGTACTGAAGCCAAATGAAACTCAAAACCATCTCTCTTCCAGCTGCTTCAGGGAGGTAGTTTCAAAGGCCACATACCTCTCTGAGACTGGCAGATCGCTCACTGTTGTGAATCACCAAAGGAGCTATGGAGAGAATTAAAACTCAACATTACTGTTAACTGTGCGTTAAATAAGCAAATAAACAGTGGCTCATAAAAATAAAAGTCGCATTCCATATCTTTGGATGGGCCTTTTAGAAACCTCATTGGCCAGCTCATAAAATGGAAGCAATTGCTCATGTTGGCCAAACATGGTGCACCGAGTGATTTCCATCTCTGGTAAAGTTACACTTTTATTTCCTGTATGTTGTACAATCAAAACACACTACTACCTCTTAAGTCCCAGTATACCTCATTTTTCATACTGAAAAAAAAAGCTTGTGGCCAATGGAACAGTAAGAACATCATAAAATTTTTATATATATAGTTTATTTTTGTGGGAGATAAATTTTATAGGACTGTTCTTTGCTGTTGTTGGTCGCAGCTACATAAGACTGGACATTTAACTTTTCTACCATTTCTGCAAGTTAGGTATGTTTGCAGGAGAAAAGTATCAAGACGTTTAACTGCAGTTGACTTTCTCCCTGTTCCTTTGAGTGTCTTCTAACTTTATTCTTTGTTCTTTATGTAGAATTGCTGTCTATGATTGTACTTTGAATCGCTTGCTTGTTGAAAATATTTCTCTAGTGTATTATCACTGTCTGTTCTGCACAATAAACATAACAGCCTCTGTGATCCCCATGTGTTTTGATTCCTGCTCTTTGTTACAGTTCCATTAAATGAGTAATAAAGTTTGGTCAAAACAGAAAAAAAAAAA\""
   ]
  },
  {
   "cell_type": "code",
   "execution_count": 1,
   "metadata": {
    "collapsed": true
   },
   "outputs": [],
   "source": [
    "import pandas as pd\n",
    "import numpy as np"
   ]
  },
  {
   "cell_type": "code",
   "execution_count": 24,
   "metadata": {
    "collapsed": true
   },
   "outputs": [],
   "source": [
    "t1 = \"AAUCAAAACACACUACUACCUCU\"\n",
    "t1r= \"UUAGUU\" #UUGUGUG\" #AUGAUGGAGA\"\n",
    "t2 = \"AGACCUGAAUACCACUUACCUCA\""
   ]
  },
  {
   "cell_type": "code",
   "execution_count": 29,
   "metadata": {
    "collapsed": false
   },
   "outputs": [
    {
     "name": "stdout",
     "output_type": "stream",
     "text": [
      "0\n"
     ]
    }
   ],
   "source": [
    "if t2[:3] in g:\n",
    "    print 0"
   ]
  },
  {
   "cell_type": "code",
   "execution_count": 26,
   "metadata": {
    "collapsed": false
   },
   "outputs": [
    {
     "data": {
      "text/plain": [
       "['CTTGAATCTTGGGGCAGGAACTCAGAAAACTTCCAGCCCGGGCAGCGCGCGCTTGGTGCAAGACTCAGGAGCTAGCAGCCCGTCCCCCTCCGACTCTCCGGTGCCGCCGCTGCCTGCTCCCGCCACCCTAGGAGGCGCGGTGCCACCCACTACTCTGTCCTCTGCCTGTGCTCCGTGCCCGACCCTATCCCGGCGGAGTCTCCCCATCCTCCTTTGCTTTCCGACTGCCCAAGGCACTTTCAATCTCAATCTCTTCTCTCTCTCTCTCTCTCTCTCTCTCTCTCTCTCTCTCTCTCTCTCTCTCTCTCTCGCAGGGTGGGGGGAAGAGGAGGAGGAATTCTTTCCCCGCCTAACATTTCAAGGGACACAATTCACTCCAAGTCTCTTCCCTTTCCAAGCCGCTTCCGAAGTGCTCCCGGTGCCCGCAACTCCTGATCCCAACCCGCGAGAGGAGCCTCTGCGACCTCAAAGCCTCTCTTCCTTCTCCCTCGCTTCCCTCCTCCTCTTGCTACCTCCACCTCCACCGCCACCTCCACCTCCGGCACCCACCCACCGCCGCCGCCGCCACCGGCAGCGCCTCCTCCTCTCCTCCTCCTCCTCCCCTCTTCTCTTTTTGGCAGCCGCTGGACGTCCGGTGTTGATGGTGGCAGCGGCGGCAGCCTAAGCAACAGCAGCCCTCGCAGCCCGCCAGCTCGCGCTCGCCCCGCCGGCGTCCCCAGCCCTATCACCTCATCTCCCGAAAGGTGCTGGGCAGCTCCGGGGCGGTCGAGGCGAAGCGGCTGCAGCGGCGGTAGCGGCGGCGGGAGGCAGGATGAGCGCACGCGGTGAGGGCGCGGGGCAGCCGTCCACTTCAGCCCAGGGACAACCTGCCGCCCCAGCGCCTCAGAAGAGAGGACGCGGCCGCCCCAGGAAGCAGCAGCAAGAACCAACCGGTGAGCCCTCTCCTAAGAGACCCAGGGGAAGACCCAAAGGCAGCAAAAACAAGAGTCCCTCTAAAGCAGCTCAAAAGAAAGCAGAAGCCACTGGAGAAAAACGGCCAAGAGGCAGACCTAGGAAATGGCCACAACAAGTTGTTCAGAAGAAGCCTGCTCAGGAGGAAACTGAAGAGACATCCTCACAAGAGTCTGCCGAAGAGGACTAGGGGGCGCCAACGTTCGATTTCTACCTCAGCAGCAGTTGGATCTTTTGAAGGGAGAAGACACTGCAGTGACCACTTATTCTGTATTGCCATGGTCTTTCCACTTTCATCTGGGGTGGGGTGGGGTGGGGTGGGGGAGGGGGGGGTGGGGTGGGGAGAAATCACATAACCTTAAAAAGGACTATATTAATCACCTTCTTTGTAATCCCTTCACAGTCCCAGGTTTAGTGAAAAACTGCTGTAAACACAGGGGACACAGCTTAACAATGCAACTTTTAATTACTGTTTTCTTTTTTCTTAACCTACTAATAGTTTGTTGATCTGATAAGCAAGAGTGGGCGGGTGAGAAAAACCGAATTGGGTTTAGTCAATCACTGCACTGCATGCAAACAAGAAACGTGTCACACTTGTGACGTCGGGCATTCATATAGGAAGAACGCGGTGTGTAACACTGTGTACACCTCAAATACCACCCCAACCCACTCCCTGTAGTGAATCCTCTGTTTAGAACACCAAAGATAAGGACTAGATACTACTTTCTCTTTTTCGTATAATCTTGTAGACACTTACTTGATGATTTTTAACTTTTTATTTCTAAATGAGACGAAATGCTGATGTATCCTTTCATTCAGCTAACAAACTAGAAAAGGTTATGTTCATTTTTCAAAAAGGGAAGTAAGCAAACAAATATTGCCAACTCTTCTATTTATGGATATCACACATATCAGCAGGAGTAATAAATTTACTCACAGCACTTGTTTTCAGGACAACACTTCATTTTCAGGAAATCTACTTCCTACAGAGCCAAAATGCCATTTAGCAATAAATAACACTTGTCAGCCTCAGAGCATTTAAGGAAACTAGACAAGTAAAATTATCCTCTTTGTAATTTAATGAAAAGGTACAACAGAATAATGCATGATGAACTCACCTAATTATGAGGTGGGAGGAGCGAAATCTAAATTTCTTTTGCTATAGTTATACATCAATTTAAAAAGCAAAAAAAAAAAAGGGGGGGGCAATCTCTCTCTGTGTCTTTCTCTCTCTCTCTTCCTCTCCCTCTCTCTTTTCATTGTGTATCAGTTTCCATGAAAGACCTGAATACCACTTACCTCAAATTAAGCATATGTGTTACTTCAAGTAATACGTTTTGACATAAGATGGTTGACCAAGGTGCTTTTCTTCGGCTTGAGTTCACCATCTCTTCATTCAAACTGCACTTTTAGCCAGAGATGCAATATATCCCCACTACTCAATACTACCTCTGAATGTTACAACGAATTTACAGTCTAGTACTTATTACATGCTGCTATACACAAGCAATGCAAGAAAAAAACTTACTGGGTAGGTGATTCTAATCATCTGCAGTTCTTTTTGTACACTTAATTACAGTTAAAGAAGCAATCTCCTTACTGTGTTTCAGCATGACTATGTATTTTTCTATGTTTTTTTAATTAAAAATTTTTAAAATACTTGTTTCAGCTTCTCTGCTAGATTTCTACATTAACTTGAAAATTTTTTAACCAAGTCGCTCCTAGGTTCTTAAGGATAATTTTCCTCAATCACACTACACATCACACAAGATTTGACTGTAATATTTAAATATTACCCTCCAAGTCTGTACCTCAAATGAATTCTTTAAGGAGATGGACTAATTGACTTGCAAAGACCTACCTCCAGACTTCAAAAGGAATGAACTTGTTACTTGCAGCATTCATTTGTTTTTTCAATGTTTGAAATAGTTCAAACTGCAGCTAACCCTAGTCAAAACTATTTTTGTAAAAGACATTTGATAGAAAGGAACACGTTTTTACATACTTTTGCAAAATAAGTAAATAATAAATAAAATAAAAGCCAACCTTCAAAGAAACTTGAAGCTTTGTAGGTGAGATGCAACAAGCCCTGCTTTTGCATAATGCAATCAAAAATATGTGTTTTTAAGATTAGTTGAATATAAGAAAATGCTTGACAAATATTTTCATGTATTTTACACAAATGTGATTTTTGTAATATGTCTCAACCAGATTTATTTTAAACGCTTCTTATGTAGAGTTTTTATGCCTTTCTCTCCTAGTGAGTGTGCTGACTTTTTAACATGGTATTATCAACTGGGCCAGGAGGTAGTTTCTCATGACGGCTTTTGTCAGTATGGCTTTTAGTACTGAAGCCAAATGAAACTCAAAACCATCTCTCTTCCAGCTGCTTCAGGGAGGTAGTTTCAAAGGCCACATACCTCTCTGAGACTGGCAGATCGCTCACTGTTGTGAATCACCAAAGGAGCTATGGAGAGAATTAAAACTCAACATTACTGTTAACTGTGCGTTAAATAAGCAAATAAACAGTGGCTCATAAAAATAAAAGTCGCATTCCATATCTTTGGATGGGCCTTTTAGAAACCTCATTGGCCAGCTCATAAAATGGAAGCAATTGCTCATGTTGGCCAAACATGGTGCACCGAGTGATTTCCATCTCTGGTAAAGTTACACTTTTATTTCCTGTATGTTGTACAATCAAAACACACTACTACCTCTTAAGTCCCAGTATACCTCATTTTTCATACTGAAAAAAAAAGCTTGTGGCCAATGGAACAGTAAGAACATCATAAAATTTTTATATATATAGTTTATTTTTGTGGGAGATAAATTTTATAGGACTGTTCTTTGCTGTTGTTGGTCGCAGCTACATAAGACTGGACATTTAACTTTTCTACCATTTCTGCAAGTTAGGTATGTTTGCAGGAGAAAAGTATCAAGACGTTTAACTGCAGTTGACTTTCTCCCTGTTCCTTTGAGTGTCTTCTAACTTTATTCTTTGTTCTTTATGTAGAATTGCTGTCTATGATTGTACTTTGAATCGCTTGCTTGTTGAAAATATTTCTCTAGTGTATTATCACTGTCTGTTCTGCACAATAAACATAACAGCCTCTGTGATCCCCATGTGTTTTGATTCCTGCTCTTTGTTACAGTTCCATTAAATGAGTAATAAAGTTTGGTCAAAACAGAAAAAAAAAAA']"
      ]
     },
     "execution_count": 26,
     "metadata": {},
     "output_type": "execute_result"
    }
   ],
   "source": [
    "g.split(t1r[::-1])"
   ]
  },
  {
   "cell_type": "code",
   "execution_count": 10,
   "metadata": {
    "collapsed": false
   },
   "outputs": [
    {
     "data": {
      "text/plain": [
       "'UCUCCAUCAUCACACAAAACUAA'"
      ]
     },
     "execution_count": 10,
     "metadata": {},
     "output_type": "execute_result"
    }
   ],
   "source": [
    "t1[::-1]"
   ]
  },
  {
   "cell_type": "code",
   "execution_count": 71,
   "metadata": {
    "collapsed": true
   },
   "outputs": [],
   "source": [
    "rawtxt = pd.read_csv('/home/kira/Downloads/mart_export (4).txt',sep='|',engine='c',lineterminator='>',header=None, error_bad_lines=False)"
   ]
  },
  {
   "cell_type": "code",
   "execution_count": 72,
   "metadata": {
    "collapsed": false
   },
   "outputs": [
    {
     "data": {
      "text/html": [
       "<div>\n",
       "<style>\n",
       "    .dataframe thead tr:only-child th {\n",
       "        text-align: right;\n",
       "    }\n",
       "\n",
       "    .dataframe thead th {\n",
       "        text-align: left;\n",
       "    }\n",
       "\n",
       "    .dataframe tbody tr th {\n",
       "        vertical-align: top;\n",
       "    }\n",
       "</style>\n",
       "<table border=\"1\" class=\"dataframe\">\n",
       "  <thead>\n",
       "    <tr style=\"text-align: right;\">\n",
       "      <th></th>\n",
       "      <th>0</th>\n",
       "      <th>1</th>\n",
       "    </tr>\n",
       "  </thead>\n",
       "  <tbody>\n",
       "    <tr>\n",
       "      <th>0</th>\n",
       "      <td>ENSG00000149948</td>\n",
       "      <td>ENST00000403681\\nCCACAACAAGTTGTTCAGAAGAAGCCTGC...</td>\n",
       "    </tr>\n",
       "    <tr>\n",
       "      <th>1</th>\n",
       "      <td>ENSG00000149948</td>\n",
       "      <td>ENST00000403681\\nAAAGCAGAAGCCACTGGAGAAAAACGGCC...</td>\n",
       "    </tr>\n",
       "    <tr>\n",
       "      <th>2</th>\n",
       "      <td>ENSG00000149948</td>\n",
       "      <td>ENST00000403681\\nCAGCCCGGGATCCCCGGCCTGTCCCTTTA...</td>\n",
       "    </tr>\n",
       "    <tr>\n",
       "      <th>3</th>\n",
       "      <td>ENSG00000149948</td>\n",
       "      <td>ENST00000403681\\nGAGGAAACTGAAGAGACATCCTCACAAGA...</td>\n",
       "    </tr>\n",
       "    <tr>\n",
       "      <th>4</th>\n",
       "      <td>ENSG00000149948</td>\n",
       "      <td>ENST00000403681\\nGAACCAACCGGTGAGCCCTCTCCTAAGAG...</td>\n",
       "    </tr>\n",
       "  </tbody>\n",
       "</table>\n",
       "</div>"
      ],
      "text/plain": [
       "                 0                                                  1\n",
       "0  ENSG00000149948  ENST00000403681\\nCCACAACAAGTTGTTCAGAAGAAGCCTGC...\n",
       "1  ENSG00000149948  ENST00000403681\\nAAAGCAGAAGCCACTGGAGAAAAACGGCC...\n",
       "2  ENSG00000149948  ENST00000403681\\nCAGCCCGGGATCCCCGGCCTGTCCCTTTA...\n",
       "3  ENSG00000149948  ENST00000403681\\nGAGGAAACTGAAGAGACATCCTCACAAGA...\n",
       "4  ENSG00000149948  ENST00000403681\\nGAACCAACCGGTGAGCCCTCTCCTAAGAG..."
      ]
     },
     "execution_count": 72,
     "metadata": {},
     "output_type": "execute_result"
    }
   ],
   "source": [
    "rawtxt"
   ]
  },
  {
   "cell_type": "code",
   "execution_count": 73,
   "metadata": {
    "collapsed": false
   },
   "outputs": [
    {
     "data": {
      "text/html": [
       "<div>\n",
       "<style>\n",
       "    .dataframe thead tr:only-child th {\n",
       "        text-align: right;\n",
       "    }\n",
       "\n",
       "    .dataframe thead th {\n",
       "        text-align: left;\n",
       "    }\n",
       "\n",
       "    .dataframe tbody tr th {\n",
       "        vertical-align: top;\n",
       "    }\n",
       "</style>\n",
       "<table border=\"1\" class=\"dataframe\">\n",
       "  <thead>\n",
       "    <tr style=\"text-align: right;\">\n",
       "      <th></th>\n",
       "      <th>0</th>\n",
       "      <th>1</th>\n",
       "      <th>2</th>\n",
       "      <th>3</th>\n",
       "      <th>4</th>\n",
       "    </tr>\n",
       "  </thead>\n",
       "  <tbody>\n",
       "    <tr>\n",
       "      <th>Target Gene</th>\n",
       "      <td>ENST00000403681</td>\n",
       "      <td>ENST00000403681</td>\n",
       "      <td>ENST00000403681</td>\n",
       "      <td>ENST00000403681</td>\n",
       "      <td>ENST00000403681</td>\n",
       "    </tr>\n",
       "    <tr>\n",
       "      <th>dna</th>\n",
       "      <td>CCACAACAAGTTGTTCAGAAGAAGCCTGCTCAG</td>\n",
       "      <td>AAAGCAGAAGCCACTGGAGAAAAACGGCCAAGAGGCAGACCTAGGA...</td>\n",
       "      <td>CAGCCCGGGATCCCCGGCCTGTCCCTTTAACCCCGCCGCCGGGCGG...</td>\n",
       "      <td>GAGGAAACTGAAGAGACATCCTCACAAGAGTCTGCCGAAGAGGACT...</td>\n",
       "      <td>GAACCAACCGGTGAGCCCTCTCCTAAGAGACCCAGGGGAAGACCCA...</td>\n",
       "    </tr>\n",
       "  </tbody>\n",
       "</table>\n",
       "</div>"
      ],
      "text/plain": [
       "                                             0  \\\n",
       "Target Gene                    ENST00000403681   \n",
       "dna          CCACAACAAGTTGTTCAGAAGAAGCCTGCTCAG   \n",
       "\n",
       "                                                             1  \\\n",
       "Target Gene                                    ENST00000403681   \n",
       "dna          AAAGCAGAAGCCACTGGAGAAAAACGGCCAAGAGGCAGACCTAGGA...   \n",
       "\n",
       "                                                             2  \\\n",
       "Target Gene                                    ENST00000403681   \n",
       "dna          CAGCCCGGGATCCCCGGCCTGTCCCTTTAACCCCGCCGCCGGGCGG...   \n",
       "\n",
       "                                                             3  \\\n",
       "Target Gene                                    ENST00000403681   \n",
       "dna          GAGGAAACTGAAGAGACATCCTCACAAGAGTCTGCCGAAGAGGACT...   \n",
       "\n",
       "                                                             4  \n",
       "Target Gene                                    ENST00000403681  \n",
       "dna          GAACCAACCGGTGAGCCCTCTCCTAAGAGACCCAGGGGAAGACCCA...  "
      ]
     },
     "execution_count": 73,
     "metadata": {},
     "output_type": "execute_result"
    }
   ],
   "source": [
    "rtxt = rawtxt[1]\n",
    "code = []\n",
    "dna = []\n",
    "for i in rtxt:\n",
    "    st = i.split('\\n',1)\n",
    "    code.append(st[0])\n",
    "    dna.append(st[1].replace('\\n',''))\n",
    "    \n",
    "df = pd.DataFrame([code,dna],index = ['Target Gene','dna'])\n",
    "df"
   ]
  },
  {
   "cell_type": "code",
   "execution_count": 113,
   "metadata": {
    "collapsed": true
   },
   "outputs": [],
   "source": [
    "t1 = \"AAUCAAAACACACUACUACCUCU\"\n",
    "t1T = \"AATCAAAACACACTACTACCTCT\"\n",
    "\n",
    "t0 = \"CGCCAACGUUCGAUUUCUACCUCA\"\n",
    "t0T =\"CGCCAACGTTCGATTTCTACCTCA\"\n",
    "\n",
    "t2 = \"AGACCUGAAUACCACUUACCUCA\"\n",
    "t2T= \"AGACCTGAATACCACTTACCTCA\"\n",
    "\n",
    "#2405\n",
    "t3 = \"AUAUCCCCACUACUCAAUACUACCUCUG\"\n",
    "t3T = \"ATATCCCCACTACTCAATACTACCTCTG\"\n",
    "\n",
    "t1TR = \"UUAGUUUUGUGUGAUGAUGGAGA\"\n",
    "t1r= \"UUAGUU\"\n",
    "t1a= \"AAUCAA\"\n",
    "t1rb= \"UUGAUU\"\n",
    "t1ab= \"AACUAA\"\n",
    "t1rT= \"TTAGTT\"\n",
    "t1aT= \"AATCAA\"\n",
    "t1rbT= \"TTGATT\"\n",
    "t1abT= \"AACTAA\"\n"
   ]
  },
  {
   "cell_type": "code",
   "execution_count": 95,
   "metadata": {
    "collapsed": false
   },
   "outputs": [
    {
     "data": {
      "text/plain": [
       "3888"
      ]
     },
     "execution_count": 95,
     "metadata": {},
     "output_type": "execute_result"
    }
   ],
   "source": [
    "dd = df[0]['dna']+df[1]['dna']+df[2]['dna']+df[3]['dna']+df[4]['dna']\n",
    "dd.find(t1T)\n",
    "#3699"
   ]
  },
  {
   "cell_type": "code",
   "execution_count": 83,
   "metadata": {
    "collapsed": false
   },
   "outputs": [
    {
     "name": "stdout",
     "output_type": "stream",
     "text": [
      "33\n",
      "51\n",
      "1251\n",
      "3051\n",
      "87\n"
     ]
    }
   ],
   "source": [
    "for i in range(5):\n",
    "    print len(df[i]['dna'])"
   ]
  },
  {
   "cell_type": "code",
   "execution_count": 84,
   "metadata": {
    "collapsed": false
   },
   "outputs": [
    {
     "data": {
      "text/plain": [
       "4473"
      ]
     },
     "execution_count": 84,
     "metadata": {},
     "output_type": "execute_result"
    }
   ],
   "source": [
    "33+51+1251+3051+87"
   ]
  },
  {
   "cell_type": "code",
   "execution_count": 85,
   "metadata": {
    "collapsed": false
   },
   "outputs": [
    {
     "data": {
      "text/plain": [
       "2553"
      ]
     },
     "execution_count": 85,
     "metadata": {},
     "output_type": "execute_result"
    }
   ],
   "source": [
    "df[3]['dna'].find(t1T)"
   ]
  },
  {
   "cell_type": "code",
   "execution_count": 93,
   "metadata": {
    "collapsed": false
   },
   "outputs": [
    {
     "data": {
      "text/plain": [
       "1387"
      ]
     },
     "execution_count": 93,
     "metadata": {},
     "output_type": "execute_result"
    }
   ],
   "source": [
    "dd = df[0]['dna']+df[1]['dna']+df[2]['dna']+df[3]['dna']+df[4]['dna']\n",
    "dd.find(t0T)\n",
    "#1169"
   ]
  },
  {
   "cell_type": "code",
   "execution_count": 94,
   "metadata": {
    "collapsed": false
   },
   "outputs": [
    {
     "data": {
      "text/plain": [
       "218"
      ]
     },
     "execution_count": 94,
     "metadata": {},
     "output_type": "execute_result"
    }
   ],
   "source": [
    "1387-1169"
   ]
  },
  {
   "cell_type": "code",
   "execution_count": 96,
   "metadata": {
    "collapsed": false
   },
   "outputs": [
    {
     "data": {
      "text/plain": [
       "189"
      ]
     },
     "execution_count": 96,
     "metadata": {},
     "output_type": "execute_result"
    }
   ],
   "source": [
    "3888-3699"
   ]
  },
  {
   "cell_type": "code",
   "execution_count": 98,
   "metadata": {
    "collapsed": false
   },
   "outputs": [
    {
     "data": {
      "text/plain": [
       "2473"
      ]
     },
     "execution_count": 98,
     "metadata": {},
     "output_type": "execute_result"
    }
   ],
   "source": [
    "dd = df[0]['dna']+df[1]['dna']+df[2]['dna']+df[3]['dna']+df[4]['dna']\n",
    "dd.find(t2T)\n",
    "#2254"
   ]
  },
  {
   "cell_type": "code",
   "execution_count": 99,
   "metadata": {
    "collapsed": false
   },
   "outputs": [
    {
     "data": {
      "text/plain": [
       "219"
      ]
     },
     "execution_count": 99,
     "metadata": {},
     "output_type": "execute_result"
    }
   ],
   "source": [
    "2473-2254"
   ]
  },
  {
   "cell_type": "code",
   "execution_count": 100,
   "metadata": {
    "collapsed": false
   },
   "outputs": [
    {
     "data": {
      "text/plain": [
       "24"
      ]
     },
     "execution_count": 100,
     "metadata": {},
     "output_type": "execute_result"
    }
   ],
   "source": [
    "len(t0T)"
   ]
  },
  {
   "cell_type": "code",
   "execution_count": 101,
   "metadata": {
    "collapsed": false
   },
   "outputs": [
    {
     "data": {
      "text/plain": [
       "23"
      ]
     },
     "execution_count": 101,
     "metadata": {},
     "output_type": "execute_result"
    }
   ],
   "source": [
    "len(t1T)"
   ]
  },
  {
   "cell_type": "code",
   "execution_count": 102,
   "metadata": {
    "collapsed": false
   },
   "outputs": [
    {
     "data": {
      "text/plain": [
       "23"
      ]
     },
     "execution_count": 102,
     "metadata": {},
     "output_type": "execute_result"
    }
   ],
   "source": [
    "len(t2T)"
   ]
  },
  {
   "cell_type": "code",
   "execution_count": 114,
   "metadata": {
    "collapsed": false
   },
   "outputs": [
    {
     "data": {
      "text/plain": [
       "2619"
      ]
     },
     "execution_count": 114,
     "metadata": {},
     "output_type": "execute_result"
    }
   ],
   "source": [
    "dd.find(t3T)"
   ]
  },
  {
   "cell_type": "code",
   "execution_count": 103,
   "metadata": {
    "collapsed": true
   },
   "outputs": [],
   "source": [
    "rawtxt = pd.read_csv('/home/kira/Downloads/mart_export.txt',sep='|',engine='c',lineterminator='>',header=None, error_bad_lines=False)"
   ]
  },
  {
   "cell_type": "code",
   "execution_count": 104,
   "metadata": {
    "collapsed": false
   },
   "outputs": [
    {
     "data": {
      "text/html": [
       "<div>\n",
       "<style>\n",
       "    .dataframe thead tr:only-child th {\n",
       "        text-align: right;\n",
       "    }\n",
       "\n",
       "    .dataframe thead th {\n",
       "        text-align: left;\n",
       "    }\n",
       "\n",
       "    .dataframe tbody tr th {\n",
       "        vertical-align: top;\n",
       "    }\n",
       "</style>\n",
       "<table border=\"1\" class=\"dataframe\">\n",
       "  <thead>\n",
       "    <tr style=\"text-align: right;\">\n",
       "      <th></th>\n",
       "      <th>0</th>\n",
       "    </tr>\n",
       "  </thead>\n",
       "  <tbody>\n",
       "    <tr>\n",
       "      <th>Target Gene</th>\n",
       "      <td>ENST00000403681</td>\n",
       "    </tr>\n",
       "    <tr>\n",
       "      <th>dna</th>\n",
       "      <td>CAGCCCGGGATCCCCGGCCTGTCCCTTTAACCCCGCCGCCGGGCGG...</td>\n",
       "    </tr>\n",
       "  </tbody>\n",
       "</table>\n",
       "</div>"
      ],
      "text/plain": [
       "                                                             0\n",
       "Target Gene                                    ENST00000403681\n",
       "dna          CAGCCCGGGATCCCCGGCCTGTCCCTTTAACCCCGCCGCCGGGCGG..."
      ]
     },
     "execution_count": 104,
     "metadata": {},
     "output_type": "execute_result"
    }
   ],
   "source": [
    "rtxt = rawtxt[1]\n",
    "code = []\n",
    "dna = []\n",
    "for i in rtxt:\n",
    "    st = i.split('\\n',1)\n",
    "    code.append(st[0])\n",
    "    dna.append(st[1].replace('\\n',''))\n",
    "    \n",
    "df2 = pd.DataFrame([code,dna],index = ['Target Gene','dna'])\n",
    "df2"
   ]
  },
  {
   "cell_type": "code",
   "execution_count": 111,
   "metadata": {
    "collapsed": false
   },
   "outputs": [
    {
     "data": {
      "text/plain": [
       "137974"
      ]
     },
     "execution_count": 111,
     "metadata": {},
     "output_type": "execute_result"
    }
   ],
   "source": [
    "df2[0]['dna'].find(t0T)-1169-23"
   ]
  },
  {
   "cell_type": "code",
   "execution_count": 108,
   "metadata": {
    "collapsed": false
   },
   "outputs": [
    {
     "data": {
      "text/plain": [
       "137968"
      ]
     },
     "execution_count": 108,
     "metadata": {},
     "output_type": "execute_result"
    }
   ],
   "source": [
    "df2[0]['dna'].find(t1T)-3699"
   ]
  },
  {
   "cell_type": "code",
   "execution_count": 117,
   "metadata": {
    "collapsed": false
   },
   "outputs": [
    {
     "data": {
      "text/plain": [
       "137998"
      ]
     },
     "execution_count": 117,
     "metadata": {},
     "output_type": "execute_result"
    }
   ],
   "source": [
    "df2[0]['dna'].find(t2T)-2254#-24"
   ]
  },
  {
   "cell_type": "code",
   "execution_count": 118,
   "metadata": {
    "collapsed": false
   },
   "outputs": [
    {
     "data": {
      "text/plain": [
       "137993"
      ]
     },
     "execution_count": 118,
     "metadata": {},
     "output_type": "execute_result"
    }
   ],
   "source": [
    "df2[0]['dna'].find(t3T)-2405#-len(t3T)"
   ]
  },
  {
   "cell_type": "code",
   "execution_count": null,
   "metadata": {
    "collapsed": true
   },
   "outputs": [],
   "source": [
    "2405\n",
    "Alignment\n",
    "5' AUAUCCCCACUACUCAAUACUACCUCUG"
   ]
  },
  {
   "cell_type": "code",
   "execution_count": 3,
   "metadata": {
    "collapsed": false
   },
   "outputs": [
    {
     "data": {
      "text/html": [
       "<div>\n",
       "<style>\n",
       "    .dataframe thead tr:only-child th {\n",
       "        text-align: right;\n",
       "    }\n",
       "\n",
       "    .dataframe thead th {\n",
       "        text-align: left;\n",
       "    }\n",
       "\n",
       "    .dataframe tbody tr th {\n",
       "        vertical-align: top;\n",
       "    }\n",
       "</style>\n",
       "<table border=\"1\" class=\"dataframe\">\n",
       "  <thead>\n",
       "    <tr style=\"text-align: right;\">\n",
       "      <th></th>\n",
       "      <th>0</th>\n",
       "      <th>1</th>\n",
       "    </tr>\n",
       "  </thead>\n",
       "  <tbody>\n",
       "    <tr>\n",
       "      <th>0</th>\n",
       "      <td>ENSG00000186575</td>\n",
       "      <td>ENST00000413209\\nGTAAAGAAGCAGATTTTAGATGAAAAGAT...</td>\n",
       "    </tr>\n",
       "    <tr>\n",
       "      <th>1</th>\n",
       "      <td>ENSG00000186575</td>\n",
       "      <td>ENST00000413209\\nCTCACCTTGCAGAGCGCCAAGTCCCGAGT...</td>\n",
       "    </tr>\n",
       "    <tr>\n",
       "      <th>2</th>\n",
       "      <td>ENSG00000186575</td>\n",
       "      <td>ENST00000413209\\nTGCGCTTCCCGCGGGCGCGCGGAGTGAGG...</td>\n",
       "    </tr>\n",
       "    <tr>\n",
       "      <th>3</th>\n",
       "      <td>ENSG00000186575</td>\n",
       "      <td>ENST00000413209\\nGTACTGGATCATGATGTTTCAAAGGAAGA...</td>\n",
       "    </tr>\n",
       "    <tr>\n",
       "      <th>4</th>\n",
       "      <td>ENSG00000186575</td>\n",
       "      <td>ENST00000413209\\nATGAAGTGGAAAGGGAAGGACCTCTTTGA...</td>\n",
       "    </tr>\n",
       "  </tbody>\n",
       "</table>\n",
       "</div>"
      ],
      "text/plain": [
       "                 0                                                  1\n",
       "0  ENSG00000186575  ENST00000413209\\nGTAAAGAAGCAGATTTTAGATGAAAAGAT...\n",
       "1  ENSG00000186575  ENST00000413209\\nCTCACCTTGCAGAGCGCCAAGTCCCGAGT...\n",
       "2  ENSG00000186575  ENST00000413209\\nTGCGCTTCCCGCGGGCGCGCGGAGTGAGG...\n",
       "3  ENSG00000186575  ENST00000413209\\nGTACTGGATCATGATGTTTCAAAGGAAGA...\n",
       "4  ENSG00000186575  ENST00000413209\\nATGAAGTGGAAAGGGAAGGACCTCTTTGA..."
      ]
     },
     "execution_count": 3,
     "metadata": {},
     "output_type": "execute_result"
    }
   ],
   "source": [
    "rawtxt = pd.read_csv('/home/kira/Downloads/mart_export (5).txt',sep='|',engine='c',lineterminator='>',\n",
    "                     header=None, error_bad_lines=False)\n",
    "rawtxt"
   ]
  },
  {
   "cell_type": "code",
   "execution_count": 4,
   "metadata": {
    "collapsed": false
   },
   "outputs": [
    {
     "data": {
      "text/plain": [
       "2245"
      ]
     },
     "execution_count": 4,
     "metadata": {},
     "output_type": "execute_result"
    }
   ],
   "source": [
    "rtxt = rawtxt[1]\n",
    "code = []\n",
    "dna = []\n",
    "for i in rtxt:\n",
    "    st = i.split('\\n',1)\n",
    "    code.append(st[0])\n",
    "    dna.append(st[1].replace('\\n',''))\n",
    "    \n",
    "df = pd.DataFrame([code,dna],index = ['Target Gene','dna'])\n",
    "dd = df[0]['dna']+df[1]['dna']+df[2]['dna']+df[3]['dna']+df[4]['dna']\n",
    "\n",
    "t = \"UACAAGAGAUUCUCCUGCCUCA\".replace('U','T')\n",
    "dd.find(t)\n",
    "#4363"
   ]
  },
  {
   "cell_type": "code",
   "execution_count": 7,
   "metadata": {
    "collapsed": false
   },
   "outputs": [
    {
     "data": {
      "text/plain": [
       "-1"
      ]
     },
     "execution_count": 7,
     "metadata": {},
     "output_type": "execute_result"
    }
   ],
   "source": [
    "rawtxt = pd.read_csv('/home/kira/Downloads/mart_export (6).txt',sep='|',engine='c',lineterminator='>',\n",
    "                     header=None, error_bad_lines=False)\n",
    "rtxt = rawtxt[1]\n",
    "code = []\n",
    "dna = []\n",
    "for i in rtxt:\n",
    "    st = i.split('\\n',1)\n",
    "    code.append(st[0])\n",
    "    dna.append(st[1].replace('\\n',''))\n",
    "    \n",
    "df = pd.DataFrame([code,dna],index = ['Target Gene','dna'])\n",
    "dd = df[0]['dna']#+df[1]['dna']+df[2]['dna']+df[3]['dna']+df[4]['dna']\n",
    "\n",
    "t = \"UACAAGAGAUUCUCCUGCCUCA\".replace('U','T')\n",
    "dd.find(t)\n",
    "#4363"
   ]
  },
  {
   "cell_type": "code",
   "execution_count": 8,
   "metadata": {
    "collapsed": false
   },
   "outputs": [
    {
     "data": {
      "text/plain": [
       "443"
      ]
     },
     "execution_count": 8,
     "metadata": {},
     "output_type": "execute_result"
    }
   ],
   "source": [
    "len(dd)"
   ]
  },
  {
   "cell_type": "code",
   "execution_count": 23,
   "metadata": {
    "collapsed": false
   },
   "outputs": [
    {
     "name": "stdout",
     "output_type": "stream",
     "text": [
      "TTTTTTTTTTTTTTTTTTATTTTCCAGCTTAGAATTTTTATTAAAACAATCATTTAAGTTATAATCGTTC\n",
      "CCCAGAATAGAAAATAGCCTTCTATGATCTGGCCCTGATAGGAGGCAGGACTCGGGCCCTACAGGAAGAA\n",
      "GTGACGTTTGACATCTTTGAAAATGGATGGCGCTTCCCTGAAAGCCCTGGAGGGGCTGGCTTGGGCCCAG\n",
      "GGTCACTGGGCCAGGCTGTCTCCCTGCCAACGCTGCTCCCTCCAGGGGTGGTGAGGCCCCACCCTGTCAG\n",
      "TGAGGAACACTTAGACACTGCAGCTGGTTGTCAGTCTCTGGGCTTTTGACAAAAAAAAGAGAGGGAAAGA\n",
      "GAGAAACCTGTCCCCAAAATTACAAGACACAGCCACTCATGAAGTGTTATGTAATGCCACGGGGTGCTAT\n",
      "CTAGCAGGGCCTGGCAGGTACATGAATAATAGGGTGGACAACACAGGTTGGGGGGACTGCTGTGGCTGAG\n",
      "GTGGGGCCTTGATCAGGATGAACGAAGCCATCTGTGCCACACAGCTGCACACGGCTACTGGCCAAAAGGA\n",
      "CAGCCTCACGGACATCATGAGCTGGGCAGTGACCTCATGAATGGTCCCGGTGCTGTGGGGCTTCTGCCTG\n",
      "AGAGCCAGCAGAAGGGCTCGTAATGAAACCACCATGGTCAGGACGCTGCTCTTTGGGCTTGAGACTTCCT\n",
      "TACTTGACAAACTCCCAGGCCCTAAAATGTTCGCTTAAAAAGGACGCAGTCTGGCCAAGCGCGGTGGCTC\n",
      "ATGCCTGTAATCCCAGCACTTTGGGAGGCCGAGGTGGGCAGATCACCTGAGGTCGGGAGTTCGAGACCAG\n",
      "CCTGACCGACATGGAGAAACCCCGTCTCCACTAAAAATACAAAATTAGCCGGACGTGGAGGTGCGTGCCT\n",
      "GTAATCCCAGCTACTCGGGAGGCTGAGGCAGGAGAATTGCTTGAATCCGGGAGGCGGAGGTTGCGGTGAG\n",
      "CCGAGATCACGCCATTGCACTCCAGCCTGGGCGACAAAGGCAAAAACTCCGTCTCAAAAAAAAAAAAAAA\n",
      "AGGATGCAGTCATCCCAGCCACAGGAACCAGTCTGTGAAAACCAGGCATCTCTTTCTTTCTTTCTCCTGC\n",
      "TACTGGGGCTTGAGATGCTCCTGAGGCCCATCCTCCTCTCCACCTTCTCCATCTGTGGGGAGGCACCTCA\n",
      "GTATTCCTGCCTCAAGGAGGGGGAAGTGCTCCTGGCTGAGCAAGGTCCTGCAGTTCCCAGCCTGCTCCCT\n",
      "GGAGCCCCAGGTGCTTCTGCCACAGCTCAAACACCAGCCAGCTCCCTTGAGGCCGCGTGGCTTGGCACTT\n",
      "CCCAGACTTCAGAAGTAGACACGGCAGCTAAAGAAGGAAACAAAGCCCGACAGCGTTTTTATAAACCACC\n",
      "ATATGCTCCCACCTGCAGCCATTGTTAAAGAACAAATTTACAGGTCAGGAGGAAAGTAACTCCTGGTGGA\n",
      "AATCCAGGGATGGGCTTCAAGACTGAGAAGAGACCGGGCATGGTGGCTCACGCCTATAATCCCAGAACTT\n",
      "TGGGAAGCCGGGGTGGGAGGATCACCTGAGGTCAGGAGTTCGAGACCAGTCTGGCTAACATGGCGAAACC\n",
      "CCATCTCTACTAAAAATACAAAAATTAGCCAGGCATGGTGGCACACGCCTGTAGTCCCAGCTACTCGGGA\n",
      "GGCTGAGGCAGGAGAATCTCTTGTACCTGGGAGGCGGAGGTTGCAGTGAGCTGAGATCGTGACACTGCAC\n",
      "TCCAGCCTGGGCGACAGAGCGAGACTCCATCTCAAAAAAAAAACAGAAACAGAAACAGAAAAAAAAAAAA\n",
      "AACGGAGGAGGCAGAGCCAGACCTCACTTTACAAACGCCTGAAGCTTCCGCTCCTGGCTGGGTCACACTA\n",
      "GGAAGACACAGGGCCACAACATCCATACTTACGCTCTAGGTCTGGAGTCCCACCCTGTAGACCCTAAGTG\n",
      "GCTGGGTGGCACCCAGGGCTGGTTTCCTTGGGGCAAGGTGACCCAAGCAGTTGCCGAGCAGCCCAACCCC\n",
      "ATTAGGTCAGCCTGATAGTAGGAAGAAGGCAGGATCTCTGTGCTCTGTGAGCTGCTAAGTTTCTCAAAAC\n",
      "CAGATGGAATTGCCAGAGACCACCTCTGCTCTCCAAAAATCTTGAGGCCCCCATAGCCTCTATCTTTTAT\n",
      "CTGATTAAGACAAATCACCTGCTTTGCATAACAGCCAAACTGGAAGGATCTCAAGGGCCCTGGCTGGCCA\n",
      "CAGCAGCATCAGCCATGGAGAAAAGAAAGGGCAAGAAGGGGCTGGGTGCAGTGGCTCATGCCTGTAATCC\n",
      "CAGGTGTGAGTTTGAGACCAGCCTAGCTAACATGGCAAAACCCCGTCCCTATTAAAAATACAGAACATTG\n",
      "GCCAAGTGTGGTGGTGCATGCCTGTAGTCCCAGCTACTTGGGAGGCTGAGGCAGGAGAATTGCTTGAACT\n",
      "CAGGAGGTGGAGGTTGCAGTGAGCCGAGATTGTGCCACCACACTCCCACCTGGGTGACAGAGAGAGACTC\n",
      "CATCTCGGAAAAAAAAAAAAAAAAAAAAAAAGAAAGGGCAAGAAGGTGGCCCCAGACCAAGGAGTGAGCC\n",
      "GTGGGGGTGGTTCTGTGGCCCTCTGTTGCCTGGCATGGAGGTGGGTCCTGTGACAGCCTAGGTGAGCGCC\n",
      "ACCTGTGAGTGGACACCTGCATCAGGCCTGTGCTGGGAGGGGCACAAAGGGCCCTGGCTGGCCCCCAGGG\n",
      "AACAGAAAATTCAGGGCCCGAAGAGGGACAAGGGCAACAGCAAAGTGAGGCCTGGGTACAACAGTGGGTT\n",
      "GGGAAGTGGGCTGTGGCCACTGGCACGTGGCTGGGAGGGAAGGTGAAGCAGATGGGCCGTGCAGACTGGG\n",
      "CCGGTGGAGCTCAGAGTCTGGGCCAGTGAGAAGCAGCACCTGTGGAGCCACAGGGCTTACAGATCCCTGG\n",
      "TCATAGCCGGGTTACGGGTGCTGACTGCAGTACGACCAGGGAGTACCCCAGCCCCACACAGGAAGGAGCG\n",
      "TCTATGGGCGTCGGGCAATGGGGAAGACATGAGTGGCTCCTGCCTGCCTCTCGGACCCTGGTCTAGGGTG\n",
      "GCCGGAGGGGGACAGCGAGTGCCCTGTACCATCAGCTCCCGCACGGCACTACCCAGCCCCTCGGCTGGCA\n",
      "GTCAGCCTGCATCACAGCTTCTGCCTAAAGTCTCTCCCCAGCCACAGCTGCCCTGCCTATTCCCCACCAG\n",
      "CTGCCAGCCAGAGCGCCGCCTCGGGGTGCCTGGCGGGGACCCAGCACTTGCTCGTCACGAGCTCTGGGCG\n",
      "GGCTCCCTGACGATGAGAAGCCGGCAGGCGTGCTGGCCTGGGATCCGCCGGGCTGGGCTGCTTCGCTGCA\n",
      "TGCCAGGTCCTCACCGGTGGGGGAATGAATGTTCCGGAACCCTGGGCGGGGTGGGGATGATGGCACTGGC\n",
      "TTCTCAGGGCTTCAGTGTCTCACTCCCTACAATGACTTCCCAGGCTGGGCGGTGGAGGTCAGCTCTGGAG\n",
      "TGCAAGACACACACACACCGGTGCCTTGGACGAAGGGAGTCAGGAATCCCACATTAGACAAAGGAAGACA\n",
      "AATACTTCTTAAAACAAAGACTCAGGTCAGAGAACTAGAACGCCATGAGAGAAATCTCTACAGGGTCGTA\n",
      "GTTCAAGGCAATTGCACATAAGAGGGGCTGGGCTCTTCACTCAGCTGGGGAAAGTTCTGGAGCTCCCACG\n",
      "GAAACCCCCAGCCAGCTCCCTATGGATGGCTCTCTTGATATCTGGTCCATCCCGCGGTCCCGGTAGCAGG\n",
      "AGAAGTGGCAGGTCCTGGGGTGGCTGGGTCACCTGCTAGAGCTCTTCAAAGAAGGCCACTCGGGACTTGG\n",
      "CGCTCTGCAAGGTGAGCTTGGCCTGGACGGCGTAAGAAGCCAGGAGCACAGAAGCCTCAGGAGGGCAGTA\n",
      "GATCTTTTCATCTAAAATCTGCTTCTTTACCTGTAAGAAGAATAAATGTTGTGTGATCTCCTGAACCAGC\n",
      "TCCTCTTCAGCATTCTCAGGATAAAATTTGGCCAAGAAGTGAAAGGTGACTGGTTCTTCCTTTGAAACAT\n",
      "CATGATCCAGTACCTTCTTGTCCATTTTGAGCCAGGCCACTGTGTCCTTGATTGTGTACTGCAGTCCAAA\n",
      "GAACCAGGTTTCTCGGAGCCCCAGAGTCCGGCACACCAAATCAAAGAGGTCCTTCCCTTTCCACTTCATC\n",
      "TCGCAATTGAACTCCATCTCGGCGTCCATGGTGACGATCCTCACGGTGAACGTCTTGGGTTGCTTCCTCT\n",
      "TGAGAGAGCTGAAGCTCATGCGGGAAGCGATGGCCCCGGCCATGGCGCGGGGCTCAGGCCCGGGACCCTC\n",
      "GCGCCCCACGGCCTGCACTCTGAGCCCTTTAGCCCCCCTGGAGTTGCTGCACAGGCCTCAGGGCCACCAT\n",
      "GGTGGCCGGCTGCCCGGCCCGGGAACGGTCTGGGCTGCGCGGGTCCCCAGCGGCCAGCATGGGCCGCGAG\n",
      "GACCCTGCCTGAGCGGAAAGGGGAGTTGGGGGACGGGCCCTGACGGCTGCAGGGAGGGCACAGGAGCCGG\n",
      "GACCTTCGGTGCAGGCGCGACCCGGCACTCCGGGATTCGGGCCGGAGATGCCGGGGACGCCTCGGGACGG\n",
      "GACCCCTAGACGGCAGCGGCCCAGACTCCGCGCGCCTCTCAGCGGCCGACTAGGGTCACGGGGCCGCGCT\n",
      "GCATCGGGCGCGTACGCGCGCGCGTGGCTGTCACCGTCCTCACTCCGCGCGCCCGCGGGAAGCGCA\n",
      "\n",
      "\n"
     ]
    },
    {
     "data": {
      "text/plain": [
       "-1"
      ]
     },
     "execution_count": 23,
     "metadata": {},
     "output_type": "execute_result"
    }
   ],
   "source": [
    "rawtxt = pd.read_csv('/home/kira/Downloads/sequence.fasta',sep='|',engine='c',lineterminator='>',\n",
    "                     header=None, error_bad_lines=False)\n",
    "rtxt = rawtxt[0]\n",
    "code = []\n",
    "dna = []\n",
    "for i in rtxt:\n",
    "    print i\n",
    "    st = i.split('\\n',1)\n",
    "    code.append(st[0])\n",
    "    dna.append(st[1].replace('\\n',''))\n",
    "    \n",
    "df = pd.DataFrame([code,dna],index = ['Target Gene','dna'])\n",
    "dd = df[0]['dna']#+df[1]['dna']+df[2]['dna']+df[3]['dna']+df[4]['dna']\n",
    "\n",
    "t = \"UACAAGAGAUUCUCCUGCCUCA\".replace('U','T')\n",
    "dd.find(t[::-1])\n",
    "#4363"
   ]
  },
  {
   "cell_type": "code",
   "execution_count": 22,
   "metadata": {
    "collapsed": false
   },
   "outputs": [
    {
     "data": {
      "text/plain": [
       "4686"
      ]
     },
     "execution_count": 22,
     "metadata": {},
     "output_type": "execute_result"
    }
   ],
   "source": [
    "len(dd)"
   ]
  }
 ],
 "metadata": {
  "anaconda-cloud": {},
  "kernelspec": {
   "display_name": "Python [conda root]",
   "language": "python",
   "name": "conda-root-py"
  },
  "language_info": {
   "codemirror_mode": {
    "name": "ipython",
    "version": 3
   },
   "file_extension": ".py",
   "mimetype": "text/x-python",
   "name": "python",
   "nbconvert_exporter": "python",
   "pygments_lexer": "ipython3",
   "version": "3.5.2"
  }
 },
 "nbformat": 4,
 "nbformat_minor": 2
}
