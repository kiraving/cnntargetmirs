{
 "cells": [
  {
   "cell_type": "code",
   "execution_count": 3,
   "metadata": {
    "collapsed": false
   },
   "outputs": [],
   "source": [
    "\n",
    "import numpy as np\n",
    "import math\n",
    "from os.path import join,exists\n",
    "from keras.models import Sequential\n",
    "from keras.layers.core import Dense, Dropout, Activation, Flatten, Reshape\n",
    "from keras.layers import Merge\n",
    "from keras.layers.convolutional import Conv2D,MaxPooling2D,MaxPooling1D, Conv1D\n",
    "from keras.optimizers import Adadelta,RMSprop\n",
    "#from hyperas.distributions import choice, uniform, conditional\n",
    "from keras.callbacks import ModelCheckpoint\n",
    "from keras.constraints import maxnorm\n",
    "from random import randint\n",
    "from sklearn.cross_validation import train_test_split\n",
    "from keras import backend as K\n",
    "K.set_image_dim_ordering('th')\n",
    "\n",
    "def parse_seq(a,maxlen):\n",
    "    encode = {'A':[1,0,0,0],'C':[0,1,0,0],'G':[0,0,1,0],'T':[0,0,0,1],'U':[0,0,0,1],'N':[0,0,0,0]}\n",
    "    out = np.zeros([maxlen,4])\n",
    "    for idx, nt in enumerate(a):\n",
    "        out[idx]=encode[nt]\n",
    "    return out\n",
    "\n"
   ]
  },
  {
   "cell_type": "code",
   "execution_count": 6,
   "metadata": {
    "collapsed": false
   },
   "outputs": [
    {
     "name": "stdout",
     "output_type": "stream",
     "text": [
      "28\n"
     ]
    }
   ],
   "source": [
    "fi = 'input100k'\n",
    "maxlen_mir = 0\n",
    "for l in open(fi, 'r'):\n",
    "    (a, b) = l.strip().split(\"\\t\")\n",
    "    if len(a)> maxlen_mir:\n",
    "            maxlen_mir = len(a)\n",
    "print maxlen_mir     "
   ]
  },
  {
   "cell_type": "code",
   "execution_count": null,
   "metadata": {
    "collapsed": true
   },
   "outputs": [],
   "source": [
    "def parse_seq(a,maxlen):\n",
    "    encode = {'A':[1,0,0,0],'C':[0,1,0,0],'G':[0,0,1,0],'T':[0,0,0,1],'U':[0,0,0,1],'N':[0,0,0,0]}\n",
    "    out = np.zeros([maxlen,4])\n",
    "    for idx, nt in enumerate(a):\n",
    "        out[idx]=encode[nt]\n",
    "    return out"
   ]
  },
  {
   "cell_type": "code",
   "execution_count": 8,
   "metadata": {
    "collapsed": true
   },
   "outputs": [],
   "source": [
    "def parse_seq1D(a,maxlen):\n",
    "    encode = {'A':1,'C':2,'G':3,'T':4,'U':5,'N':0}\n",
    "    out = np.zeros([maxlen,4])\n",
    "    for idx, nt in enumerate(a):\n",
    "        out[idx]=encode[nt]\n",
    "    return out"
   ]
  },
  {
   "cell_type": "code",
   "execution_count": 5,
   "metadata": {
    "collapsed": false
   },
   "outputs": [
    {
     "name": "stdout",
     "output_type": "stream",
     "text": [
      "84909\n"
     ]
    }
   ],
   "source": [
    "fi = 'input100k'\n",
    "len1k_gene = 0\n",
    "for l in open(fi, 'r'):\n",
    "    (a, b) = l.strip().split(\"\\t\")\n",
    "    if len(b)<7000 and len(b)>100:\n",
    "            len1k_gene+=1\n",
    "print len1k_gene"
   ]
  },
  {
   "cell_type": "code",
   "execution_count": 6,
   "metadata": {
    "collapsed": false
   },
   "outputs": [
    {
     "name": "stdout",
     "output_type": "stream",
     "text": [
      "control10k\n",
      "9835\n"
     ]
    }
   ],
   "source": [
    "out_mir = []\n",
    "out_gene = []\n",
    "maxlen_mir =28\n",
    "fi = 'control10k'\n",
    "len10k_gene = 0\n",
    "print fi\n",
    "for l in open(fi, 'r'):\n",
    "    (a, b) = l.strip().split(\"\\t\")\n",
    "\n",
    "    if len(b)<7000:\n",
    "        out_mir.append(parse_seq(a,maxlen_mir))\n",
    "        out_gene.append(parse_seq(b,7000))\n",
    "        len10k_gene+=1\n",
    "\n",
    "print len10k_gene\n",
    "\n",
    "out_mir=np.array(out_mir)\n",
    "np.save('out_mir_control.npy', out_mir)\n",
    "\n",
    "out_gene = np.array(out_gene)\n",
    "np.save('out_gene_control.npy', out_gene)"
   ]
  },
  {
   "cell_type": "code",
   "execution_count": 4,
   "metadata": {
    "collapsed": false
   },
   "outputs": [],
   "source": [
    "out_mir= np.load('out_mir_input.npy')\n",
    "out_gene = np.load('out_gene_input.npy')\n",
    "#print out_mir.shape\n",
    "out_mir2 = out_mir.reshape(8500,28,4)\n",
    "out_gene2 = out_gene.reshape(8500,7000,4)"
   ]
  },
  {
   "cell_type": "code",
   "execution_count": 16,
   "metadata": {
    "collapsed": true
   },
   "outputs": [],
   "source": [
    "def run_model(X_train_g,X_train_m, Y_train, X_test_g,X_test_m, Y_test, nb_epoch):\n",
    "   \n",
    "    DROPOUT = 0.5 \n",
    "    \n",
    "    gmodel = Sequential()\n",
    "    gmodel.add(Conv1D(20,4, input_shape=(7000,4),activation='relu'))\n",
    "    gmodel.add(MaxPooling1D(2))\n",
    "    gmodel.add(Flatten())\n",
    "    gmodel.add(Dense(32,activation='relu'))\n",
    "    gmodel.add(Dropout(DROPOUT))\n",
    "    \n",
    "    mmodel = Sequential()\n",
    "    mmodel.add(Conv1D(20,4, input_shape=(28,4),activation='relu'))\n",
    "    mmodel.add(MaxPooling1D(2))\n",
    "    mmodel.add(Flatten())\n",
    "    mmodel.add(Dense(32,activation='relu'))\n",
    "    mmodel.add(Dropout(DROPOUT))\n",
    "    \n",
    "    merged = Merge([gmodel, mmodel], mode = 'concat')\n",
    "    modelmg = Sequential()\n",
    "    modelmg.add(merged)\n",
    "    #modelmg.add(Dense(32,activation='relu'))\n",
    "    modelmg.add(Dropout(DROPOUT))\n",
    "    modelmg.add(Dense(1))\n",
    "    modelmg.add(Activation('softmax'))\n",
    "    print (\"layers are added\")\n",
    "\n",
    "    myoptimizer = RMSprop(lr=0.01, rho=0.9, epsilon=1e-06) #{{choice([0.01,0.001,0.0001])}}\n",
    "    mylossfunc = 'binary_crossentropy'\n",
    "    modelmg.compile(loss=mylossfunc, optimizer=myoptimizer,metrics=['accuracy'])\n",
    "    print (\"compiled\")\n",
    "    modelmg.fit([X_train_g,X_train_m], Y_train, batch_size=100, nb_epoch=nb_epoch,validation_split=0.1)\n",
    "    print (\"fitted\")\n",
    "    score, acc = modelmg.evaluate([X_test_g,X_test_m], Y_test)\n",
    "    print (\"evaluated\")\n",
    "    print('Test accuracy:', acc,'test loss',score)\n",
    "    #return {'loss': score, 'status': STATUS_OK,'model':(model.to_json(),myoptimizer,mylossfunc)}\n"
   ]
  },
  {
   "cell_type": "code",
   "execution_count": 8,
   "metadata": {
    "collapsed": false
   },
   "outputs": [
    {
     "name": "stdout",
     "output_type": "stream",
     "text": [
      "(8500, 28, 4)\n"
     ]
    }
   ],
   "source": [
    "print (out_mir2.shape)"
   ]
  },
  {
   "cell_type": "code",
   "execution_count": 18,
   "metadata": {
    "collapsed": false
   },
   "outputs": [
    {
     "data": {
      "text/plain": [
       "array([[[[ 1.,  0.,  0., ...,  0.,  0.,  0.],\n",
       "         [ 0.,  0.,  0., ...,  0.,  0.,  0.],\n",
       "         [ 0.,  0.,  0., ...,  1.,  0.,  0.],\n",
       "         ..., \n",
       "         [ 0.,  1.,  0., ...,  0.,  0.,  1.],\n",
       "         [ 0.,  0.,  0., ...,  0.,  0.,  0.],\n",
       "         [ 0.,  0.,  1., ...,  0.,  0.,  0.]]],\n",
       "\n",
       "\n",
       "       [[[ 1.,  0.,  0., ...,  0.,  0.,  0.],\n",
       "         [ 0.,  0.,  0., ...,  0.,  0.,  1.],\n",
       "         [ 0.,  0.,  0., ...,  0.,  1.,  0.],\n",
       "         ..., \n",
       "         [ 0.,  0.,  0., ...,  0.,  0.,  0.],\n",
       "         [ 0.,  0.,  0., ...,  0.,  0.,  1.],\n",
       "         [ 0.,  0.,  1., ...,  0.,  0.,  0.]]],\n",
       "\n",
       "\n",
       "       [[[ 0.,  0.,  0., ...,  0.,  0.,  0.],\n",
       "         [ 0.,  0.,  0., ...,  0.,  0.,  0.],\n",
       "         [ 0.,  0.,  0., ...,  0.,  0.,  1.],\n",
       "         ..., \n",
       "         [ 0.,  0.,  1., ...,  0.,  0.,  0.],\n",
       "         [ 0.,  0.,  0., ...,  0.,  0.,  0.],\n",
       "         [ 0.,  0.,  1., ...,  0.,  0.,  0.]]],\n",
       "\n",
       "\n",
       "       [[[ 0.,  0.,  0., ...,  0.,  0.,  0.],\n",
       "         [ 0.,  0.,  0., ...,  0.,  0.,  0.],\n",
       "         [ 0.,  0.,  0., ...,  1.,  0.,  0.],\n",
       "         ..., \n",
       "         [ 0.,  0.,  1., ...,  0.,  0.,  1.],\n",
       "         [ 0.,  0.,  1., ...,  0.,  0.,  1.],\n",
       "         [ 0.,  0.,  1., ...,  0.,  0.,  0.]]]])"
      ]
     },
     "execution_count": 18,
     "metadata": {},
     "output_type": "execute_result"
    }
   ],
   "source": [
    "out_mir.reshape(4,1,28,8500)"
   ]
  },
  {
   "cell_type": "code",
   "execution_count": 140,
   "metadata": {
    "collapsed": false
   },
   "outputs": [
    {
     "data": {
      "text/plain": [
       "(8500, 7000, 4)"
      ]
     },
     "execution_count": 140,
     "metadata": {},
     "output_type": "execute_result"
    }
   ],
   "source": [
    "out_gene2.shape"
   ]
  },
  {
   "cell_type": "code",
   "execution_count": 12,
   "metadata": {
    "collapsed": false
   },
   "outputs": [],
   "source": [
    "# Generation of 'negative' genes by simply shuffling the original genes' set\n",
    "from numpy.random import permutation\n",
    "genes_1 = out_gene2\n",
    "perm1 = permutation(genes_1.shape[0])\n",
    "genes_0 = genes_1[perm1]\n",
    "\n",
    "genes = np.concatenate((genes_1, genes_0))\n",
    "                        #, genes_02, genes_03\n",
    "                        #, genes_04))\n",
    "targets_1 = np.empty(genes_1.shape[0])\n",
    "targets_1.fill(1) \n",
    "targets_0 = np.zeros(genes_1.shape[0])\n",
    "targets = np.concatenate((targets_1, targets_0))\n",
    "mirs = np.concatenate((out_mir2, out_mir2))\n",
    "                       #, mirs_1, mirs_1\n",
    "                       #, mirs_1))\n",
    "\n",
    "perm = permutation(genes.shape[0])\n",
    "genes = genes[perm]\n",
    "mirs = mirs[perm]\n",
    "targets = targets[perm]\n",
    "# For test\n",
    "train_size = int(0.8*genes_1.shape[0])\n",
    "genes_t = genes[train_size:-1]\n",
    "mirs_t = mirs[train_size:-1]\n",
    "targets_t = targets[train_size:-1]\n",
    "\n",
    "genes = genes[0:train_size]\n",
    "mirs = mirs[0:train_size]\n",
    "targets = targets[0:train_size]"
   ]
  },
  {
   "cell_type": "code",
   "execution_count": 18,
   "metadata": {
    "collapsed": false
   },
   "outputs": [
    {
     "name": "stderr",
     "output_type": "stream",
     "text": [
      "/home/kira/anaconda3/lib/python3.5/site-packages/ipykernel/__main__.py:19: UserWarning: The `Merge` layer is deprecated and will be removed after 08/2017. Use instead layers from `keras.layers.merge`, e.g. `add`, `concatenate`, etc.\n",
      "/home/kira/.local/lib/python3.5/site-packages/keras/models.py:944: UserWarning: The `nb_epoch` argument in `fit` has been renamed `epochs`.\n",
      "  warnings.warn('The `nb_epoch` argument in `fit` '\n"
     ]
    },
    {
     "name": "stdout",
     "output_type": "stream",
     "text": [
      "layers are added\n",
      "compiled\n",
      "Train on 6120 samples, validate on 680 samples\n",
      "Epoch 1/30\n",
      "6120/6120 [==============================] - 20s 3ms/step - loss: 7.9816 - acc: 0.4993 - val_loss: 7.4320 - val_acc: 0.5338\n",
      "Epoch 2/30\n",
      "6120/6120 [==============================] - 20s 3ms/step - loss: 7.9816 - acc: 0.4993 - val_loss: 7.4320 - val_acc: 0.5338\n",
      "Epoch 3/30\n",
      "6120/6120 [==============================] - 19s 3ms/step - loss: 7.9816 - acc: 0.4993 - val_loss: 7.4320 - val_acc: 0.5338\n",
      "Epoch 4/30\n",
      "6120/6120 [==============================] - 20s 3ms/step - loss: 7.9816 - acc: 0.4993 - val_loss: 7.4320 - val_acc: 0.5338\n",
      "Epoch 5/30\n",
      "6120/6120 [==============================] - 20s 3ms/step - loss: 7.9816 - acc: 0.4993 - val_loss: 7.4320 - val_acc: 0.5338\n",
      "Epoch 6/30\n",
      "6120/6120 [==============================] - 20s 3ms/step - loss: 7.9816 - acc: 0.4993 - val_loss: 7.4320 - val_acc: 0.5338\n",
      "Epoch 7/30\n",
      "6120/6120 [==============================] - 20s 3ms/step - loss: 7.9816 - acc: 0.4993 - val_loss: 7.4320 - val_acc: 0.5338\n",
      "Epoch 8/30\n",
      "6120/6120 [==============================] - 20s 3ms/step - loss: 7.9816 - acc: 0.4993 - val_loss: 7.4320 - val_acc: 0.5338\n",
      "Epoch 9/30\n",
      "6120/6120 [==============================] - 20s 3ms/step - loss: 7.9816 - acc: 0.4993 - val_loss: 7.4320 - val_acc: 0.5338\n",
      "Epoch 10/30\n",
      "6120/6120 [==============================] - 21s 3ms/step - loss: 7.9816 - acc: 0.4993 - val_loss: 7.4320 - val_acc: 0.5338\n",
      "Epoch 11/30\n",
      "6120/6120 [==============================] - 25s 4ms/step - loss: 7.9816 - acc: 0.4993 - val_loss: 7.4320 - val_acc: 0.5338\n",
      "Epoch 12/30\n",
      "6120/6120 [==============================] - 23s 4ms/step - loss: 7.9816 - acc: 0.4993 - val_loss: 7.4320 - val_acc: 0.5338\n",
      "Epoch 13/30\n",
      "6120/6120 [==============================] - 22s 4ms/step - loss: 7.9816 - acc: 0.4993 - val_loss: 7.4320 - val_acc: 0.5338\n",
      "Epoch 14/30\n",
      "6120/6120 [==============================] - 24s 4ms/step - loss: 7.9816 - acc: 0.4993 - val_loss: 7.4320 - val_acc: 0.5338\n",
      "Epoch 15/30\n",
      "6120/6120 [==============================] - 23s 4ms/step - loss: 7.9816 - acc: 0.4993 - val_loss: 7.4320 - val_acc: 0.5338\n",
      "Epoch 16/30\n",
      "6120/6120 [==============================] - 26s 4ms/step - loss: 7.9816 - acc: 0.4993 - val_loss: 7.4320 - val_acc: 0.5338\n",
      "Epoch 17/30\n",
      "6120/6120 [==============================] - 20s 3ms/step - loss: 7.9816 - acc: 0.4993 - val_loss: 7.4320 - val_acc: 0.5338\n",
      "Epoch 18/30\n",
      "6120/6120 [==============================] - 21s 3ms/step - loss: 7.9816 - acc: 0.4993 - val_loss: 7.4320 - val_acc: 0.5338\n",
      "Epoch 19/30\n",
      "6120/6120 [==============================] - 21s 3ms/step - loss: 7.9816 - acc: 0.4993 - val_loss: 7.4320 - val_acc: 0.5338\n",
      "Epoch 20/30\n",
      "6120/6120 [==============================] - 21s 3ms/step - loss: 7.9816 - acc: 0.4993 - val_loss: 7.4320 - val_acc: 0.5338\n",
      "Epoch 21/30\n",
      "6120/6120 [==============================] - 21s 3ms/step - loss: 7.9816 - acc: 0.4993 - val_loss: 7.4320 - val_acc: 0.5338\n",
      "Epoch 22/30\n",
      "6120/6120 [==============================] - 20s 3ms/step - loss: 7.9816 - acc: 0.4993 - val_loss: 7.4320 - val_acc: 0.5338\n",
      "Epoch 23/30\n",
      "6120/6120 [==============================] - 20s 3ms/step - loss: 7.9816 - acc: 0.4993 - val_loss: 7.4320 - val_acc: 0.5338\n",
      "Epoch 24/30\n",
      "6120/6120 [==============================] - 19s 3ms/step - loss: 7.9816 - acc: 0.4993 - val_loss: 7.4320 - val_acc: 0.5338\n",
      "Epoch 25/30\n",
      "6120/6120 [==============================] - 20s 3ms/step - loss: 7.9816 - acc: 0.4993 - val_loss: 7.4320 - val_acc: 0.5338\n",
      "Epoch 26/30\n",
      "6120/6120 [==============================] - 21s 3ms/step - loss: 7.9816 - acc: 0.4993 - val_loss: 7.4320 - val_acc: 0.5338\n",
      "Epoch 27/30\n",
      "6120/6120 [==============================] - 20s 3ms/step - loss: 7.9816 - acc: 0.4993 - val_loss: 7.4320 - val_acc: 0.5338\n",
      "Epoch 28/30\n",
      "6120/6120 [==============================] - 20s 3ms/step - loss: 7.9816 - acc: 0.4993 - val_loss: 7.4320 - val_acc: 0.5338\n",
      "Epoch 29/30\n",
      "6120/6120 [==============================] - 22s 4ms/step - loss: 7.9816 - acc: 0.4993 - val_loss: 7.4320 - val_acc: 0.5338\n",
      "Epoch 30/30\n",
      "6120/6120 [==============================] - 25s 4ms/step - loss: 7.9816 - acc: 0.4993 - val_loss: 7.4320 - val_acc: 0.5338\n",
      "fitted\n",
      "10199/10199 [==============================] - 16s 2ms/step\n",
      "evaluated\n",
      "Test accuracy: 0.4980880478127632 test loss 8.001673425339124\n"
     ]
    }
   ],
   "source": [
    "run_model(genes,mirs,targets,genes_t,mirs_t,targets_t,nb_epoch=30)"
   ]
  },
  {
   "cell_type": "code",
   "execution_count": null,
   "metadata": {
    "collapsed": true
   },
   "outputs": [],
   "source": []
  }
 ],
 "metadata": {
  "anaconda-cloud": {},
  "kernelspec": {
   "display_name": "Python [conda root]",
   "language": "python",
   "name": "conda-root-py"
  },
  "language_info": {
   "codemirror_mode": {
    "name": "ipython",
    "version": 3
   },
   "file_extension": ".py",
   "mimetype": "text/x-python",
   "name": "python",
   "nbconvert_exporter": "python",
   "pygments_lexer": "ipython3",
   "version": "3.5.2"
  }
 },
 "nbformat": 4,
 "nbformat_minor": 2
}
