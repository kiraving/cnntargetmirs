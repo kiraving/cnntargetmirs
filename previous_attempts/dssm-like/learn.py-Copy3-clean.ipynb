{
 "cells": [
  {
   "cell_type": "code",
   "execution_count": 1,
   "metadata": {
    "collapsed": false
   },
   "outputs": [
    {
     "name": "stderr",
     "output_type": "stream",
     "text": [
      "Using TensorFlow backend.\n"
     ]
    }
   ],
   "source": [
    "import numpy as np\n",
    "from numpy.random import permutation\n",
    "import keras\n",
    "from keras.utils import np_utils\n",
    "from keras.models import Model, Sequential \n",
    "from keras.layers import Dense, Dropout, Activation, Flatten, Reshape, Merge\n",
    "from keras.optimizers import SGD, RMSprop\n",
    "from keras import backend\n",
    "from keras.layers import Input, merge\n",
    "from keras.layers.core import Dense, Lambda, Reshape\n",
    "from keras.layers.convolutional import Conv1D\n",
    "from keras.models import Model"
   ]
  },
  {
   "cell_type": "code",
   "execution_count": 2,
   "metadata": {
    "collapsed": true
   },
   "outputs": [],
   "source": [
    "batch_size = 32\n",
    "nb_epoch = 4\n",
    "J = 4 #nb of negative targets\n",
    "L = 32 #for last Dense layers"
   ]
  },
  {
   "cell_type": "code",
   "execution_count": 3,
   "metadata": {
    "collapsed": false
   },
   "outputs": [
    {
     "name": "stdout",
     "output_type": "stream",
     "text": [
      "[21751 87656 70770 ...,  2760 36038 19659] [[  6.   7.   6. ...,  11.   4.   7.]\n",
      " [ 34.  14.  22. ...,  12.   9.  10.]\n",
      " [ 27.  19.  17. ...,  11.   7.   7.]\n",
      " ..., \n",
      " [ 80.  36.  68. ...,  10.  18.  17.]\n",
      " [ 25.  12.  18. ...,   3.   1.   1.]\n",
      " [ 87.  25.  44. ...,   9.  10.   8.]]\n"
     ]
    }
   ],
   "source": [
    "# For training\n",
    "genes_1 = np.load('f_100kout_gene_input.npy') # 100 000 pairs from the head of \"input_for_neuronet\n",
    "mirs_1 = np.load('f_100kout_mir_input.npy')\n",
    "# Generation of 4 'negative' genes by simply shuffling the original genes' set\n",
    "perm = permutation(len(genes_1))\n",
    "genes_01 = genes_1[perm]\n",
    "print perm, genes_01\n",
    "perm = permutation(len(genes_1))\n",
    "genes_02 = genes_1[perm]\n",
    "perm = permutation(len(genes_1))\n",
    "genes_03 = genes_1[perm]\n",
    "perm = permutation(len(genes_1))\n",
    "genes_04 = genes_1[perm]"
   ]
  },
  {
   "cell_type": "code",
   "execution_count": 4,
   "metadata": {
    "collapsed": true
   },
   "outputs": [],
   "source": [
    "# For test\n",
    "genes_1t = np.load('f_10ktail_gene_input.npy') # 10 000 pairs from the tail\n",
    "mirs_1t = np.load('f_10ktail_mir_input.npy')\n",
    "perm = permutation(len(genes_1t))\n",
    "genes_01t = genes_1[perm]\n",
    "perm = permutation(len(genes_1t))\n",
    "genes_02t = genes_1[perm]\n",
    "perm = permutation(len(genes_1t))\n",
    "genes_03t = genes_1[perm]\n",
    "perm = permutation(len(genes_1t))\n",
    "genes_04t = genes_1[perm]"
   ]
  },
  {
   "cell_type": "code",
   "execution_count": 5,
   "metadata": {
    "collapsed": false
   },
   "outputs": [],
   "source": [
    "# Positive targets (targets =1 )\n",
    "genes_branch_p = Sequential()\n",
    "genes_branch_p.add(Dense(32, input_dim=genes_1.shape[1]))\n",
    "genes_branch_p.add(Activation('tanh'))\n",
    "genes_branch_p.add(Dropout(0.5))\n",
    "genes_branch_p.add(Dense(L))\n",
    "genes_branch_p.add(Activation('tanh'))\n",
    "genes_branch_p.add(Dropout(0.5))\n",
    "# microRNAs\n",
    "mirs_branch = Sequential()\n",
    "mirs_branch.add(Dense(32, input_dim=genes_1.shape[1]))\n",
    "mirs_branch.add(Activation('tanh'))\n",
    "mirs_branch.add(Dropout(0.5))\n",
    "mirs_branch.add(Dense(L))\n",
    "mirs_branch.add(Activation('tanh'))\n",
    "mirs_branch.add(Dropout(0.5))"
   ]
  },
  {
   "cell_type": "code",
   "execution_count": 6,
   "metadata": {
    "collapsed": true
   },
   "outputs": [],
   "source": [
    "# 4 negative targets\n",
    "genes_branch_n1 = Sequential()\n",
    "genes_branch_n1.add(Dense(32, input_dim=genes_1.shape[1]))\n",
    "genes_branch_n1.add(Activation('tanh'))\n",
    "genes_branch_n1.add(Dropout(0.5))\n",
    "genes_branch_n1.add(Dense(L))\n",
    "genes_branch_n1.add(Activation('tanh'))\n",
    "genes_branch_n1.add(Dropout(0.5))\n",
    "\n",
    "genes_branch_n2 = Sequential()\n",
    "genes_branch_n2.add(Dense(32, input_dim=genes_1.shape[1]))\n",
    "genes_branch_n2.add(Activation('tanh'))\n",
    "genes_branch_n2.add(Dropout(0.5))\n",
    "genes_branch_n2.add(Dense(L))\n",
    "genes_branch_n2.add(Activation('tanh'))\n",
    "genes_branch_n2.add(Dropout(0.5))\n",
    "\n",
    "genes_branch_n3 = Sequential()\n",
    "genes_branch_n3.add(Dense(32, input_dim=genes_1.shape[1]))\n",
    "genes_branch_n3.add(Activation('tanh'))\n",
    "genes_branch_n3.add(Dropout(0.5))\n",
    "genes_branch_n3.add(Dense(L))\n",
    "genes_branch_n3.add(Activation('tanh'))\n",
    "genes_branch_n3.add(Dropout(0.5))\n",
    "\n",
    "genes_branch_n4 = Sequential()\n",
    "genes_branch_n4.add(Dense(32, input_dim=genes_1.shape[1]))\n",
    "genes_branch_n4.add(Activation('tanh'))\n",
    "genes_branch_n4.add(Dropout(0.5))\n",
    "genes_branch_n4.add(Dense(L))\n",
    "genes_branch_n4.add(Activation('tanh'))\n",
    "genes_branch_n4.add(Dropout(0.5))"
   ]
  },
  {
   "cell_type": "code",
   "execution_count": 7,
   "metadata": {
    "collapsed": false
   },
   "outputs": [
    {
     "name": "stdout",
     "output_type": "stream",
     "text": [
      "(None, 5)\n",
      "(None, 5, 1)\n",
      "(None, 5)\n"
     ]
    }
   ],
   "source": [
    "# R_Q_D= the cosine similarity between microRNAs and genes\n",
    "R_Q_D_p = Merge([mirs_branch, genes_branch_p], mode = \"cos\") # See equation (4).\n",
    "R_Q_D_n1 = Merge([mirs_branch, genes_branch_n1], mode = \"cos\")\n",
    "R_Q_D_n2 = Merge([mirs_branch, genes_branch_n2], mode = \"cos\")\n",
    "R_Q_D_n3 = Merge([mirs_branch, genes_branch_n3], mode = \"cos\")\n",
    "R_Q_D_n4 = Merge([mirs_branch, genes_branch_n4], mode = \"cos\")\n",
    "R_Q_D_n = Merge([R_Q_D_n1, R_Q_D_n2, R_Q_D_n3, R_Q_D_n4], mode = \"concat\")\n",
    "concat_Rs = Merge([R_Q_D_p, R_Q_D_n], mode = \"concat\")\n",
    "\n",
    "model_Rs = Sequential()\n",
    "model_Rs.add(concat_Rs)\n",
    "print model_Rs.output_shape\n",
    "model_Rs.add(Reshape((J + 1, 1)))\n",
    "print model_Rs.output_shape\n",
    "weight = np.array([1]).reshape(1, 1, 1,1)\n",
    "model_Rs.add(Conv1D(1, 1, border_mode = \"same\", input_shape = (J + 1, 1), activation = \"linear\", bias = False,\n",
    "                       weights = [weight]))\n",
    "model_Rs.add(Reshape((J + 1, )))\n",
    "print model_Rs.output_shape"
   ]
  },
  {
   "cell_type": "code",
   "execution_count": 8,
   "metadata": {
    "collapsed": true
   },
   "outputs": [],
   "source": [
    "model_Rs.add(Lambda(lambda x: backend.softmax(x), output_shape = (J + 1, )))\n",
    "model_Rs.compile(optimizer = \"adadelta\", loss = \"categorical_crossentropy\", metrics=['accuracy'])"
   ]
  },
  {
   "cell_type": "code",
   "execution_count": 9,
   "metadata": {
    "collapsed": false
   },
   "outputs": [
    {
     "name": "stdout",
     "output_type": "stream",
     "text": [
      "Train on 90000 samples, validate on 10000 samples\n",
      "Epoch 1/4\n",
      "90000/90000 [==============================] - 28s - loss: 0.1953 - acc: 0.9819 - val_loss: 7.1173e-05 - val_acc: 1.0000\n",
      "Epoch 2/4\n",
      "90000/90000 [==============================] - 9s - loss: 0.0144 - acc: 1.0000 - val_loss: 1.9074e-06 - val_acc: 1.0000\n",
      "Epoch 3/4\n",
      "90000/90000 [==============================] - 9s - loss: 0.0039 - acc: 1.0000 - val_loss: 1.1921e-07 - val_acc: 1.0000\n",
      "Epoch 4/4\n",
      "90000/90000 [==============================] - 9s - loss: 0.0013 - acc: 1.0000 - val_loss: 1.1921e-07 - val_acc: 1.0000\n"
     ]
    },
    {
     "data": {
      "text/plain": [
       "<keras.callbacks.History at 0x7f743743e510>"
      ]
     },
     "execution_count": 9,
     "metadata": {},
     "output_type": "execute_result"
    }
   ],
   "source": [
    "y = np.zeros((len(genes_1),J + 1))\n",
    "y[:,0] = 1\n",
    "#ne = np.array([mirs_1, genes_1] +[genes_01]+[genes_02]+[genes_03]+[genes_04])\n",
    "#print ne.shape\n",
    "model_Rs.fit([mirs_1, genes_1] +[genes_01]+[genes_02]+[genes_03]+[genes_04], y,\n",
    "             batch_size=batch_size,\n",
    "              nb_epoch=nb_epoch,\n",
    "              validation_split=0.1,\n",
    "            shuffle = True)"
   ]
  },
  {
   "cell_type": "code",
   "execution_count": 10,
   "metadata": {
    "collapsed": false
   },
   "outputs": [
    {
     "name": "stdout",
     "output_type": "stream",
     "text": [
      " 9920/10000 [============================>.] - ETA: 0s"
     ]
    },
    {
     "data": {
      "text/plain": [
       "[1.1920928955078125e-07, 1.0]"
      ]
     },
     "execution_count": 10,
     "metadata": {},
     "output_type": "execute_result"
    }
   ],
   "source": [
    "# test\n",
    "yt = np.zeros((len(genes_1t),J + 1))\n",
    "yt[:,0] = 1\n",
    "model_Rs.evaluate([mirs_1t, genes_1t] +[genes_01t]+[genes_02t]+[genes_03t]+[genes_04t], yt, batch_size=batch_size)"
   ]
  },
  {
   "cell_type": "code",
   "execution_count": null,
   "metadata": {
    "collapsed": true
   },
   "outputs": [],
   "source": []
  }
 ],
 "metadata": {
  "kernelspec": {
   "display_name": "Python [conda root]",
   "language": "python",
   "name": "conda-root-py"
  },
  "language_info": {
   "codemirror_mode": {
    "name": "ipython",
    "version": 3
   },
   "file_extension": ".py",
   "mimetype": "text/x-python",
   "name": "python",
   "nbconvert_exporter": "python",
   "pygments_lexer": "ipython3",
   "version": "3.5.2"
  }
 },
 "nbformat": 4,
 "nbformat_minor": 0
}
