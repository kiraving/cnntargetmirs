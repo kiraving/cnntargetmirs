{
 "cells": [
  {
   "cell_type": "code",
   "execution_count": 1,
   "metadata": {
    "collapsed": false
   },
   "outputs": [
    {
     "data": {
      "text/plain": [
       "(190, 1900)"
      ]
     },
     "execution_count": 1,
     "metadata": {},
     "output_type": "execute_result"
    }
   ],
   "source": [
    "import numpy as np\n",
    "import math\n",
    "\n",
    "mir_grams = { 'A':0, 'C':1, 'U':2, 'T':2, 'N': 2, 'G': 3 }\n",
    "gen_grams = { 'A':0, 'C':1, 'U':2, 'T':2, 'N': 2, 'G': 3 }\n",
    "#{ 'A':2, 'C':3, 'U':0, 'T':0, 'N': 0, 'G': 1 }\n",
    "N_GRAM = 7\n",
    "SEEDLEN = 16\n",
    "MISMATCH = 2\n",
    "# перестановок N_GRAM! / MISMATCH! (N_GRAM - MISMATCH)! = 7! / 2!(7-2)! = 21\n",
    "# и умножить на замещение букв * 3**MISMATCH\n",
    "# + 1 оригинальная строка н-грама\n",
    "# умножить на колво разбиений на н-грамы = SEEDLEN -N_GRAM +1\n",
    "\n",
    "# gram_vector = np.zeros((1 + 3*N_GRAM)*(maxlen_mir - N_GRAM +1))\n",
    "arr_len = 1+ (3**MISMATCH)*math.factorial(N_GRAM)/math.factorial(MISMATCH)/math.factorial(N_GRAM-MISMATCH)\n",
    "vector_len = arr_len*(SEEDLEN - N_GRAM +1)\n",
    "arr_len, vector_len"
   ]
  },
  {
   "cell_type": "code",
   "execution_count": 5,
   "metadata": {
    "collapsed": true
   },
   "outputs": [],
   "source": [
    "def mir_gramto4system(ngram, grams):\n",
    "    out = 0\n",
    "    i=0\n",
    "    # ngram.reverse()\n",
    "    for c in ngram:\n",
    "        i+=1\n",
    "        out += grams[c]*(4**(N_GRAM - i))\n",
    "        #print c, out\n",
    "    return out\n",
    "def gen_gramto4system(ngram, grams):\n",
    "    out = 0\n",
    "    i=0\n",
    "    for c in ngram:\n",
    "        i+=1\n",
    "        out += grams[c]*(4**(N_GRAM - i))\n",
    "        #print c, out\n",
    "    return out\n",
    "def gramto4system(ngram, grams):\n",
    "    out = 0\n",
    "    i=0\n",
    "    for c in ngram:\n",
    "        i+=1\n",
    "        out += grams[c]*(4**(N_GRAM - i))\n",
    "        #print c, out\n",
    "    return out\n",
    "def numbto4system(numb):\n",
    "    out = 0\n",
    "    i=0\n",
    "    for c in numb:\n",
    "        i+=1\n",
    "        out += c*(4**(N_GRAM - i))\n",
    "        #print c, out\n",
    "    return out\n",
    "def gramtotempvec(ngram, grams):\n",
    "    temparr = np.zeros([arr_len, N_GRAM])\n",
    "    tempvec = np.zeros(arr_len)\n",
    "    i=0\n",
    "    count = 0\n",
    "    for c in ngram:\n",
    "        for j in xrange(0, arr_len):\n",
    "            temparr[j,i] = grams[c]\n",
    "        i+=1\n",
    "    #print \"original\"\n",
    "    #print temparr[0]\n",
    "    for i in xrange(0, N_GRAM-1):\n",
    "        #print i\n",
    "        for k in xrange(i+1, N_GRAM):\n",
    "            #print k\n",
    "            index = count*9\n",
    "            if temparr[-1,i]==0: temparr[index:index+9,i] = [1,1,1,2,2,2,3,3,3]\n",
    "            if temparr[-1,i]==1: temparr[index:index+9,i] = [0,0,0,2,2,2,3,3,3]\n",
    "            if temparr[-1,i]==2: temparr[index:index+9,i] = [0,0,0,1,1,1,3,3,3]\n",
    "            if temparr[-1,i]==3: temparr[index:(index+9),i] = [0,0,0,1,1,1,2,2,2]\n",
    "            if temparr[-1,k]==0: temparr[index:(index+9),k] = [1,2,3,1,2,3,1,2,3]\n",
    "            if temparr[-1,k]==1: temparr[index:index+9,k] = [0,2,3,0,2,3,0,2,3]\n",
    "            if temparr[-1,k]==2: temparr[index:index+9,k] = [0,1,3,0,1,3,0,1,3]\n",
    "            if temparr[-1,k]==3: temparr[index:index+9,k] = [0,1,2,0,1,2,0,1,2]\n",
    "            count+=1\n",
    "            # print count\n",
    "    #print \"temparr : \"\n",
    "    #print temparr[54:-1]\n",
    "    for j in xrange(0, arr_len):\n",
    "        #print temparr[j].astype(int)\n",
    "        tempvec[j] = numbto4system(temparr[j].astype(int))\n",
    "        #print \"tempvec %(je)s\" %{\"je\" : j}\n",
    "        #print tempvec[j]\n",
    "    return tempvec\n",
    "\n",
    "def parsemir(a1):\n",
    "    a = a1[::-1]\n",
    "    gram_vector = np.zeros(vector_len)\n",
    "    mirvec = np.zeros(vector_len)\n",
    "    gram4sys = 0\n",
    "    for i in xrange(0, SEEDLEN -N_GRAM +1): # SEEDLEN -N_GRAM +1 = 2\n",
    "        gram_vector[i*arr_len: (i+1)*arr_len] = gramtotempvec(a[i:i+7],mir_grams)\n",
    "        #print \"gram_vector\"\n",
    "        #print gram_vector[i*arr_len: (i+1)*arr_len]\n",
    "        #print len(gramtotempvec(a[i:i+7],N_GRAM))\n",
    "        #print i*(1 + 3*N_GRAM), (i+1)*(1 + 3*N_GRAM)\n",
    "        #mirvec[((i+1)*(1 + 3*N_GRAM) - 1)] +=1\n",
    "        gram4sys = gramto4system(a[i:i+7],mir_grams)\n",
    "        if gram4sys in gram_vector:\n",
    "            mirvec[int(np.where(gram_vector==gram4sys)[0][0])] +=1\n",
    "            #print \"mirvec[int\"\n",
    "            #print mirvec[int(np.where(gram_vector==gram4sys)[0][0])]\n",
    "            #print \"[int where]\"\n",
    "            #print int(np.where(gram_vector==gram4sys)[0][0])\n",
    "        # print gram_vector[i*(1 + 3*N_GRAM): (i+1)*(1 + 3*N_GRAM)]\n",
    "    #print \"mirvec\"\n",
    "    #print mirvec\n",
    "    return gram_vector, mirvec\n",
    "        \n",
    "def parsegene(b, gramvector):\n",
    "    gram4sys = 0\n",
    "    genevec = np.zeros(vector_len)\n",
    "    for i in xrange(0, len(b)-6):\n",
    "        gram4sys = gramto4system(b[i:i+7], gen_grams)\n",
    "        if gram4sys in gramvector:\n",
    "            #print \"np.where(gramvector==gram4sys)\"\n",
    "            #print np.where(gramvector==gram4sys)\n",
    "            genevec[int(np.where(gramvector==gram4sys)[0][0])] +=1\n",
    "    #print \"genevec\"\n",
    "    #print genevec\n",
    "    return genevec  "
   ]
  },
  {
   "cell_type": "code",
   "execution_count": 3,
   "metadata": {
    "collapsed": true
   },
   "outputs": [],
   "source": [
    "def parse_file(fi):\n",
    "    out_mir = []\n",
    "    out_gene = []\n",
    "    for l in open(fi, 'r'):\n",
    "    #if count<3:\n",
    "        (a, b) = l.strip().split(\"\\t\")\n",
    "        #print a\n",
    "        [gramvector, mirvector] = parsemir(a)\n",
    "        out_gene.append(parsegene(b, gramvector))\n",
    "        out_mir.append(mirvector)\n",
    "    mir=np.array(out_mir)\n",
    "    np.save('%(file)s-7gram_mir_seed16.npy' %{\"file\": fi} , mir)\n",
    "    gene = np.array(out_gene)\n",
    "    np.save('%(file)s-7gram_gene_seed16.npy' %{\"file\": fi} , gene)"
   ]
  },
  {
   "cell_type": "code",
   "execution_count": 85,
   "metadata": {
    "collapsed": true
   },
   "outputs": [],
   "source": [
    "fi = 'input10ktail'\n",
    "parse_file(fi)"
   ]
  },
  {
   "cell_type": "code",
   "execution_count": 4,
   "metadata": {
    "collapsed": true
   },
   "outputs": [],
   "source": [
    "fi = 'input10k'\n",
    "parse_file(fi)\n",
    "fi = 'control10k'\n",
    "parse_file(fi)"
   ]
  },
  {
   "cell_type": "code",
   "execution_count": 9,
   "metadata": {
    "collapsed": true
   },
   "outputs": [],
   "source": [
    "fi = 'input100k'\n",
    "maxlen_mir = 0\n",
    "for l in open(fi, 'r'):\n",
    "    (a, b) = l.strip().split(\"\\t\")\n",
    "    if len(a)> maxlen_mir:\n",
    "            maxlen_mir = len(a)\n",
    "#parse_file(fi)\n",
    "#fi = 'input10ktail'\n",
    "#parse_file(fi)"
   ]
  },
  {
   "cell_type": "code",
   "execution_count": 10,
   "metadata": {
    "collapsed": false
   },
   "outputs": [
    {
     "data": {
      "text/plain": [
       "28"
      ]
     },
     "execution_count": 10,
     "metadata": {},
     "output_type": "execute_result"
    }
   ],
   "source": [
    "maxlen_mir"
   ]
  },
  {
   "cell_type": "code",
   "execution_count": 11,
   "metadata": {
    "collapsed": false
   },
   "outputs": [
    {
     "name": "stdout",
     "output_type": "stream",
     "text": [
      "34526\n"
     ]
    }
   ],
   "source": [
    "fi = 'input100k'\n",
    "maxlen_gene = 0\n",
    "for l in open(fi, 'r'):\n",
    "    (a, b) = l.strip().split(\"\\t\")\n",
    "    if len(b)> maxlen_gene:\n",
    "            maxlen_gene = len(b)\n",
    "print maxlen_gene\n",
    "#parse_file(fi)\n",
    "#fi = 'input10ktail'\n",
    "#parse_file(fi)"
   ]
  },
  {
   "cell_type": "code",
   "execution_count": 12,
   "metadata": {
    "collapsed": false
   },
   "outputs": [
    {
     "name": "stdout",
     "output_type": "stream",
     "text": [
      "160\n"
     ]
    }
   ],
   "source": [
    "fi = 'input100k'\n",
    "minlen_gene = maxlen_gene\n",
    "for l in open(fi, 'r'):\n",
    "    (a, b) = l.strip().split(\"\\t\")\n",
    "    if len(b)< minlen_gene:\n",
    "            minlen_gene = len(b)\n",
    "print minlen_gene\n",
    "#parse_file(fi)\n",
    "#fi = 'input10ktail'\n",
    "#parse_file(fi)"
   ]
  },
  {
   "cell_type": "code",
   "execution_count": null,
   "metadata": {
    "collapsed": true
   },
   "outputs": [],
   "source": []
  },
  {
   "cell_type": "code",
   "execution_count": 24,
   "metadata": {
    "collapsed": false
   },
   "outputs": [
    {
     "name": "stdout",
     "output_type": "stream",
     "text": [
      "84909\n"
     ]
    }
   ],
   "source": [
    "fi = 'input100k'\n",
    "len1k_gene = 0\n",
    "for l in open(fi, 'r'):\n",
    "    (a, b) = l.strip().split(\"\\t\")\n",
    "    if len(b)<7000 and len(b)>100:\n",
    "            len1k_gene+=1\n",
    "print len1k_gene\n",
    "#parse_file(fi)\n",
    "#fi = 'input10ktail'\n",
    "#parse_file(fi)"
   ]
  },
  {
   "cell_type": "code",
   "execution_count": null,
   "metadata": {
    "collapsed": true
   },
   "outputs": [],
   "source": []
  }
 ],
 "metadata": {
  "kernelspec": {
   "display_name": "Python [conda root]",
   "language": "python",
   "name": "conda-root-py"
  },
  "language_info": {
   "codemirror_mode": {
    "name": "ipython",
    "version": 3
   },
   "file_extension": ".py",
   "mimetype": "text/x-python",
   "name": "python",
   "nbconvert_exporter": "python",
   "pygments_lexer": "ipython3",
   "version": "3.5.2"
  }
 },
 "nbformat": 4,
 "nbformat_minor": 1
}
